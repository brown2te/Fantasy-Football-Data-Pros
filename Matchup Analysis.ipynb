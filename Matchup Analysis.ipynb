{
 "cells": [
  {
   "cell_type": "code",
   "execution_count": 1,
   "metadata": {},
   "outputs": [],
   "source": [
    "import pandas as pd\n",
    "import requests\n",
    "import matplotlib.pyplot as plt\n",
    "import seaborn as sns\n",
    "import scipy.stats as st\n",
    "import math\n",
    "\n",
    "# This is to show multiple outputs in 1 cell\n",
    "from IPython.core.interactiveshell import InteractiveShell\n",
    "InteractiveShell.ast_node_interactivity = \"all\""
   ]
  },
  {
   "cell_type": "code",
   "execution_count": 2,
   "metadata": {},
   "outputs": [],
   "source": [
    "# This function compiles weekly data from a given season based on scoring format\n",
    "def getYearlyStatsFP(season, scoring='STD'):\n",
    "    \n",
    "    # Based on the scoring input ('STD' by default), this modifies the url.\n",
    "    if scoring == 'HALF':\n",
    "        scoring_param = 'half-ppr.php'\n",
    "    elif scoring == 'PPR':\n",
    "        scoring_param = 'ppr.php'\n",
    "    else:\n",
    "        scoring_param = ''\n",
    "    \n",
    "    # Create an empty DataFrame to append each week to.\n",
    "    df = pd.DataFrame()\n",
    "    \n",
    "    for week in range(1,18):\n",
    "    \n",
    "        url = \"https://www.fantasypros.com/nfl/reports/leaders/{}?year={}&start={}&end={}\".format(scoring_param,\n",
    "                                                                                                  season,\n",
    "                                                                                                  week,\n",
    "                                                                                                  week)\n",
    "\n",
    "        df1 = pd.read_html(url)[0]\n",
    "\n",
    "        df1['Week'] = week\n",
    "        \n",
    "        df1 = df1[['Week','Player','Position','Team','Points']]\n",
    "        \n",
    "        df = df.append(df1, ignore_index=True)\n",
    "    \n",
    "    # Create a .csv from the output\n",
    "    filename = \"{}_FP_{}\".format(season, scoring)\n",
    "    df.to_csv(filename)\n",
    "    \n",
    "    return df"
   ]
  },
  {
   "cell_type": "code",
   "execution_count": 3,
   "metadata": {},
   "outputs": [
    {
     "data": {
      "text/html": [
       "<div>\n",
       "<style scoped>\n",
       "    .dataframe tbody tr th:only-of-type {\n",
       "        vertical-align: middle;\n",
       "    }\n",
       "\n",
       "    .dataframe tbody tr th {\n",
       "        vertical-align: top;\n",
       "    }\n",
       "\n",
       "    .dataframe thead th {\n",
       "        text-align: right;\n",
       "    }\n",
       "</style>\n",
       "<table border=\"1\" class=\"dataframe\">\n",
       "  <thead>\n",
       "    <tr style=\"text-align: right;\">\n",
       "      <th></th>\n",
       "      <th>Week</th>\n",
       "      <th>Player</th>\n",
       "      <th>Position</th>\n",
       "      <th>Team</th>\n",
       "      <th>Points</th>\n",
       "    </tr>\n",
       "  </thead>\n",
       "  <tbody>\n",
       "    <tr>\n",
       "      <th>0</th>\n",
       "      <td>1</td>\n",
       "      <td>Sammy Watkins</td>\n",
       "      <td>WR</td>\n",
       "      <td>KC</td>\n",
       "      <td>42.3</td>\n",
       "    </tr>\n",
       "    <tr>\n",
       "      <th>1</th>\n",
       "      <td>1</td>\n",
       "      <td>Christian McCaffrey</td>\n",
       "      <td>RB</td>\n",
       "      <td>CAR</td>\n",
       "      <td>37.9</td>\n",
       "    </tr>\n",
       "    <tr>\n",
       "      <th>2</th>\n",
       "      <td>1</td>\n",
       "      <td>Austin Ekeler</td>\n",
       "      <td>RB</td>\n",
       "      <td>LAC</td>\n",
       "      <td>36.4</td>\n",
       "    </tr>\n",
       "    <tr>\n",
       "      <th>3</th>\n",
       "      <td>1</td>\n",
       "      <td>Lamar Jackson</td>\n",
       "      <td>QB</td>\n",
       "      <td>BAL</td>\n",
       "      <td>33.6</td>\n",
       "    </tr>\n",
       "    <tr>\n",
       "      <th>4</th>\n",
       "      <td>1</td>\n",
       "      <td>Dak Prescott</td>\n",
       "      <td>QB</td>\n",
       "      <td>DAL</td>\n",
       "      <td>33.4</td>\n",
       "    </tr>\n",
       "  </tbody>\n",
       "</table>\n",
       "</div>"
      ],
      "text/plain": [
       "   Week               Player Position Team  Points\n",
       "0     1        Sammy Watkins       WR   KC    42.3\n",
       "1     1  Christian McCaffrey       RB  CAR    37.9\n",
       "2     1        Austin Ekeler       RB  LAC    36.4\n",
       "3     1        Lamar Jackson       QB  BAL    33.6\n",
       "4     1         Dak Prescott       QB  DAL    33.4"
      ]
     },
     "execution_count": 3,
     "metadata": {},
     "output_type": "execute_result"
    }
   ],
   "source": [
    "df = getYearlyStatsFP(2019,'HALF')\n",
    "df.head()"
   ]
  },
  {
   "cell_type": "code",
   "execution_count": 4,
   "metadata": {},
   "outputs": [],
   "source": [
    "# This function creates scoring range based on \n",
    "def playerConf(conf,week):\n",
    "    \n",
    "    alpha = 1-conf\n",
    "    \n",
    "    summary = df[df['Week']<week][['Player',\n",
    "                                   'Position',\n",
    "                                   'Team',\n",
    "                                   'Points']].groupby(by=['Player',\n",
    "                                                          'Position',\n",
    "                                                          'Team']).agg(['sum',\n",
    "                                                                        'mean',\n",
    "                                                                        'std',\n",
    "                                                                        'count'])\n",
    "    for i,player in summary.iterrows():\n",
    "        \n",
    "        # Calculate t value from alpha and degrees of freedom (n-1)\n",
    "        n = player[('Points','count')]\n",
    "        t = abs(st.t.ppf(alpha/2,df = n-1))\n",
    "        std = player[('Points','std')]\n",
    "    \n",
    "        \n",
    "        summary.loc[i,'low'] = player[('Points','mean')] - (t * (std/math.sqrt(n)))\n",
    "        summary.loc[i,'high'] = player[('Points','mean')] + (t * (std/math.sqrt(n)))\n",
    "        \n",
    "    summary['range'] = summary['high'] - summary['low']\n",
    "        \n",
    "    summary.dropna(inplace=True)\n",
    "    summary.sort_values(by=('Points','sum'),ascending=False,inplace=True)\n",
    "    summary.reset_index(inplace=True)\n",
    "        \n",
    "    return summary"
   ]
  },
  {
   "cell_type": "code",
   "execution_count": 5,
   "metadata": {},
   "outputs": [
    {
     "data": {
      "text/html": [
       "<div>\n",
       "<style scoped>\n",
       "    .dataframe tbody tr th:only-of-type {\n",
       "        vertical-align: middle;\n",
       "    }\n",
       "\n",
       "    .dataframe tbody tr th {\n",
       "        vertical-align: top;\n",
       "    }\n",
       "\n",
       "    .dataframe thead tr th {\n",
       "        text-align: left;\n",
       "    }\n",
       "</style>\n",
       "<table border=\"1\" class=\"dataframe\">\n",
       "  <thead>\n",
       "    <tr>\n",
       "      <th></th>\n",
       "      <th>Player</th>\n",
       "      <th>Position</th>\n",
       "      <th>Team</th>\n",
       "      <th colspan=\"4\" halign=\"left\">Points</th>\n",
       "      <th>low</th>\n",
       "      <th>high</th>\n",
       "      <th>range</th>\n",
       "    </tr>\n",
       "    <tr>\n",
       "      <th></th>\n",
       "      <th></th>\n",
       "      <th></th>\n",
       "      <th></th>\n",
       "      <th>sum</th>\n",
       "      <th>mean</th>\n",
       "      <th>std</th>\n",
       "      <th>count</th>\n",
       "      <th></th>\n",
       "      <th></th>\n",
       "      <th></th>\n",
       "    </tr>\n",
       "  </thead>\n",
       "  <tbody>\n",
       "    <tr>\n",
       "      <th>0</th>\n",
       "      <td>Lamar Jackson</td>\n",
       "      <td>QB</td>\n",
       "      <td>BAL</td>\n",
       "      <td>354.8</td>\n",
       "      <td>27.292308</td>\n",
       "      <td>6.454903</td>\n",
       "      <td>13</td>\n",
       "      <td>24.101535</td>\n",
       "      <td>30.483080</td>\n",
       "      <td>6.381544</td>\n",
       "    </tr>\n",
       "    <tr>\n",
       "      <th>1</th>\n",
       "      <td>Christian McCaffrey</td>\n",
       "      <td>RB</td>\n",
       "      <td>CAR</td>\n",
       "      <td>335.6</td>\n",
       "      <td>25.815385</td>\n",
       "      <td>10.224549</td>\n",
       "      <td>13</td>\n",
       "      <td>20.761210</td>\n",
       "      <td>30.869560</td>\n",
       "      <td>10.108350</td>\n",
       "    </tr>\n",
       "    <tr>\n",
       "      <th>2</th>\n",
       "      <td>Deshaun Watson</td>\n",
       "      <td>QB</td>\n",
       "      <td>HOU</td>\n",
       "      <td>303.5</td>\n",
       "      <td>23.346154</td>\n",
       "      <td>10.048019</td>\n",
       "      <td>13</td>\n",
       "      <td>18.379241</td>\n",
       "      <td>28.313067</td>\n",
       "      <td>9.933826</td>\n",
       "    </tr>\n",
       "    <tr>\n",
       "      <th>3</th>\n",
       "      <td>Dak Prescott</td>\n",
       "      <td>QB</td>\n",
       "      <td>DAL</td>\n",
       "      <td>290.3</td>\n",
       "      <td>22.330769</td>\n",
       "      <td>7.777359</td>\n",
       "      <td>13</td>\n",
       "      <td>18.486284</td>\n",
       "      <td>26.175255</td>\n",
       "      <td>7.688971</td>\n",
       "    </tr>\n",
       "    <tr>\n",
       "      <th>4</th>\n",
       "      <td>Russell Wilson</td>\n",
       "      <td>QB</td>\n",
       "      <td>SEA</td>\n",
       "      <td>283.0</td>\n",
       "      <td>21.769231</td>\n",
       "      <td>10.132899</td>\n",
       "      <td>13</td>\n",
       "      <td>16.760360</td>\n",
       "      <td>26.778101</td>\n",
       "      <td>10.017741</td>\n",
       "    </tr>\n",
       "  </tbody>\n",
       "</table>\n",
       "</div>"
      ],
      "text/plain": [
       "                Player Position Team Points                              \\\n",
       "                                        sum       mean        std count   \n",
       "0        Lamar Jackson       QB  BAL  354.8  27.292308   6.454903    13   \n",
       "1  Christian McCaffrey       RB  CAR  335.6  25.815385  10.224549    13   \n",
       "2       Deshaun Watson       QB  HOU  303.5  23.346154  10.048019    13   \n",
       "3         Dak Prescott       QB  DAL  290.3  22.330769   7.777359    13   \n",
       "4       Russell Wilson       QB  SEA  283.0  21.769231  10.132899    13   \n",
       "\n",
       "         low       high      range  \n",
       "                                    \n",
       "0  24.101535  30.483080   6.381544  \n",
       "1  20.761210  30.869560  10.108350  \n",
       "2  18.379241  28.313067   9.933826  \n",
       "3  18.486284  26.175255   7.688971  \n",
       "4  16.760360  26.778101  10.017741  "
      ]
     },
     "execution_count": 5,
     "metadata": {},
     "output_type": "execute_result"
    }
   ],
   "source": [
    "summary = playerConf(.90,15)\n",
    "summary.head()"
   ]
  },
  {
   "cell_type": "code",
   "execution_count": 6,
   "metadata": {
    "scrolled": false
   },
   "outputs": [
    {
     "name": "stdout",
     "output_type": "stream",
     "text": [
      "\u001b[1;4mThe Top 10 Most Consistent/Predictable Players by Position:\n",
      "\u001b[0m\n",
      "QB\n",
      "             Player        low       high\n",
      "                                         \n",
      "30       Derek Carr  12.408843  17.606542\n",
      "18     Carson Wentz  14.564696  20.096842\n",
      "22    Philip Rivers  13.793099  19.329977\n",
      "7        Josh Allen  17.044406  22.847902\n",
      "0     Lamar Jackson  24.101535  30.483080\n",
      "31   Baker Mayfield  11.720851  18.140688\n",
      "15     Kirk Cousins  14.357616  20.996230\n",
      "8      Kyler Murray  15.927441  22.872559\n",
      "29  Jacoby Brissett  12.878008  19.871992\n",
      "17        Tom Brady  13.819166  20.903911\n",
      "\n",
      "RB\n",
      "                 Player        low       high\n",
      "                                             \n",
      "215        Nyheim Hines   4.145487   7.162206\n",
      "154         Tarik Cohen   5.640982   9.235941\n",
      "135       Royce Freeman   6.200320   9.876603\n",
      "101         Carlos Hyde   7.261227  11.246465\n",
      "234         Gus Edwards   2.959735   7.209496\n",
      "71         Le'Veon Bell  10.284499  14.832167\n",
      "21      Ezekiel Elliott  14.384744  19.061410\n",
      "112        Duke Johnson   6.448828  11.151172\n",
      "235  DeAndre Washington   2.696387   7.442074\n",
      "148       Peyton Barber   5.197117  10.141345\n",
      "\n",
      "WR\n",
      "               Player        low       high\n",
      "                                           \n",
      "121     Mike Williams   7.554574  10.828760\n",
      "80       Cole Beasley   8.296841  12.610852\n",
      "111  Larry Fitzgerald   6.240389  11.436534\n",
      "146    Dede Westbrook   5.731775  11.001559\n",
      "33     Julian Edelman  11.818203  17.197182\n",
      "93      Curtis Samuel   6.939596  12.352711\n",
      "86       D.K. Metcalf   7.272141  12.789397\n",
      "44         D.J. Moore  10.299727  15.869504\n",
      "55   Courtland Sutton   9.650058  15.380711\n",
      "155      Chris Conley   4.433065  10.366935\n",
      "\n",
      "TE\n",
      "             Player        low       high\n",
      "                                         \n",
      "257    Tyler Eifert   3.002566   6.089741\n",
      "242    Blake Jarwin   3.054094   6.653599\n",
      "168    Jason Witten   5.101671   8.744483\n",
      "52     Travis Kelce  10.663410  14.690436\n",
      "200  Dallas Goedert   4.579236   8.687430\n",
      "250     Dawson Knox   2.518696   6.758227\n",
      "187      Jack Doyle   4.149611   8.681158\n",
      "223      Eric Ebron   4.082132   8.826959\n",
      "229    Mike Gesicki   2.877232   7.768922\n",
      "258   Cameron Brate   2.053800   7.007738\n",
      "\n",
      "DST\n",
      "                   Player       low       high\n",
      "                                              \n",
      "225  Los Angeles Chargers  4.025812   6.897265\n",
      "160    Indianapolis Colts  5.714850   8.592842\n",
      "140         Buffalo Bills  6.365315   9.326993\n",
      "357        Miami Dolphins  0.137356   4.170336\n",
      "284    Cincinnati Bengals  1.670387   5.714228\n",
      "147     Minnesota Vikings  5.670387   9.714228\n",
      "184   Washington Redskins  4.504184   8.572739\n",
      "254         Detroit Lions  2.465070   6.765699\n",
      "273     Arizona Cardinals  1.770998   6.229002\n",
      "130    New Orleans Saints  5.854285  10.453408\n",
      "\n",
      "\u001b[1;4mThe Top 10 Most Unpredictable Players by Position:\n",
      "\u001b[0m\n",
      "QB\n",
      "             Player        low       high\n",
      "                                         \n",
      "10    Aaron Rodgers  13.281342  23.426350\n",
      "4    Russell Wilson  16.760360  26.778101\n",
      "2    Deshaun Watson  18.379241  28.313067\n",
      "39   Mitch Trubisky  10.021337  19.945330\n",
      "14        Matt Ryan  14.877941  23.422059\n",
      "19  Jimmy Garoppolo  13.052756  21.316474\n",
      "27       Jared Goff  11.160404  19.393442\n",
      "13  Patrick Mahomes  16.932037  25.013418\n",
      "5    Jameis Winston  16.881451  24.657010\n",
      "3      Dak Prescott  18.486284  26.175255\n",
      "\n",
      "RB\n",
      "                  Player        low       high\n",
      "                                              \n",
      "12           Aaron Jones  10.888878  24.634199\n",
      "204        Chase Edmonds   1.435084  13.944916\n",
      "115         James Conner   7.953817  20.096183\n",
      "109        Tevin Coleman   5.102923  15.860713\n",
      "129        Jordan Howard   6.479838  17.164606\n",
      "99         David Johnson   5.929930  16.197343\n",
      "98       Latavius Murray   4.313313  14.578995\n",
      "221        Rashaad Penny   1.998299  12.261701\n",
      "1    Christian McCaffrey  20.761210  30.869560\n",
      "16         Austin Ekeler  13.210550  22.112527\n",
      "\n",
      "WR\n",
      "             Player        low       high\n",
      "                                         \n",
      "153     Will Fuller   2.147221  19.808335\n",
      "26       Mike Evans   8.958873  21.687281\n",
      "152   Sammy Watkins   2.700841  15.299159\n",
      "103     Tyreek Hill   7.466978  19.244133\n",
      "89   Darius Slayton   6.189415  17.246948\n",
      "110  Christian Kirk   6.209274  16.810726\n",
      "60     Stefon Diggs   7.089518  17.125867\n",
      "20     Chris Godwin  11.806997  21.808388\n",
      "34     Amari Cooper   9.573021  19.411594\n",
      "54     Marvin Jones   7.678628  17.382910\n",
      "\n",
      "TE\n",
      "            Player       low       high\n",
      "                                       \n",
      "244    Will Dissly  3.892298  16.907702\n",
      "175    Evan Engram  6.022606  15.827394\n",
      "143   Hunter Henry  7.207174  15.259492\n",
      "193   Ryan Griffin  2.536902   9.924637\n",
      "66       Zach Ertz  8.126677  15.288708\n",
      "83   Austin Hooper  9.596777  16.603223\n",
      "76    Mark Andrews  7.098093  14.086523\n",
      "164     Greg Olsen  4.287445  10.912555\n",
      "132     Jared Cook  6.292032  12.853422\n",
      "73   Darren Waller  7.534135  14.065865\n",
      "\n",
      "DST\n",
      "                   Player        low       high\n",
      "                                               \n",
      "23   New England Patriots  10.421138  21.732709\n",
      "189   Philadelphia Eagles   1.775966  10.993265\n",
      "69    San Francisco 49ers   7.694256  15.536513\n",
      "97       Baltimore Ravens   5.848083  13.074993\n",
      "157  Tampa Bay Buccaneers   3.735216  10.880168\n",
      "205       New York Giants   2.345875   9.346433\n",
      "263       Atlanta Falcons   0.886620   7.728764\n",
      "162     Carolina Panthers   3.691289  10.462557\n",
      "125    Kansas City Chiefs   4.946668  11.668717\n",
      "141         New York Jets   4.512739  11.179569\n",
      "\n",
      "\u001b[1;4mThe Top 10 Floors by Position:\n",
      "\u001b[0m\n",
      "QB\n",
      "             Player        low       high\n",
      "                                         \n",
      "0     Lamar Jackson  24.101535  30.483080\n",
      "3      Dak Prescott  18.486284  26.175255\n",
      "2    Deshaun Watson  18.379241  28.313067\n",
      "7        Josh Allen  17.044406  22.847902\n",
      "13  Patrick Mahomes  16.932037  25.013418\n",
      "5    Jameis Winston  16.881451  24.657010\n",
      "4    Russell Wilson  16.760360  26.778101\n",
      "8      Kyler Murray  15.927441  22.872559\n",
      "14        Matt Ryan  14.877941  23.422059\n",
      "18     Carson Wentz  14.564696  20.096842\n",
      "\n",
      "RB\n",
      "                 Player        low       high\n",
      "                                             \n",
      "1   Christian McCaffrey  20.761210  30.869560\n",
      "6           Dalvin Cook  16.904662  23.110723\n",
      "21      Ezekiel Elliott  14.384744  19.061410\n",
      "11        Derrick Henry  13.968958  22.631042\n",
      "16        Austin Ekeler  13.210550  22.112527\n",
      "25    Leonard Fournette  11.760277  18.947415\n",
      "24           Nick Chubb  11.541773  20.104381\n",
      "36         Chris Carson  11.009189  16.898504\n",
      "12          Aaron Jones  10.888878  24.634199\n",
      "32       Mark Ingram II  10.476909  18.800014\n",
      "\n",
      "WR\n",
      "              Player        low       high\n",
      "                                          \n",
      "9     Michael Thomas  15.324260  22.214202\n",
      "28   DeAndre Hopkins  11.857792  18.572977\n",
      "33    Julian Edelman  11.818203  17.197182\n",
      "20      Chris Godwin  11.806997  21.808388\n",
      "44        D.J. Moore  10.299727  15.869504\n",
      "35    Kenny Golladay  10.255236  18.252456\n",
      "56       Julio Jones  10.086809  16.546525\n",
      "55  Courtland Sutton   9.650058  15.380711\n",
      "37        D.J. Chark   9.618933  18.242605\n",
      "34      Amari Cooper   9.573021  19.411594\n",
      "\n",
      "TE\n",
      "            Player        low       high\n",
      "                                        \n",
      "52    Travis Kelce  10.663410  14.690436\n",
      "83   Austin Hooper   9.596777  16.603223\n",
      "84   George Kittle   8.642150  15.157850\n",
      "66       Zach Ertz   8.126677  15.288708\n",
      "73   Darren Waller   7.534135  14.065865\n",
      "143   Hunter Henry   7.207174  15.259492\n",
      "76    Mark Andrews   7.098093  14.086523\n",
      "132     Jared Cook   6.292032  12.853422\n",
      "175    Evan Engram   6.022606  15.827394\n",
      "168   Jason Witten   5.101671   8.744483\n",
      "\n",
      "DST\n",
      "                   Player        low       high\n",
      "                                               \n",
      "23   New England Patriots  10.421138  21.732709\n",
      "63    Pittsburgh Steelers   8.604261  15.241893\n",
      "69    San Francisco 49ers   7.694256  15.536513\n",
      "87       Los Angeles Rams   6.809193  13.190807\n",
      "140         Buffalo Bills   6.365315   9.326993\n",
      "104      Tennessee Titans   5.957096  12.504443\n",
      "130    New Orleans Saints   5.854285  10.453408\n",
      "97       Baltimore Ravens   5.848083  13.074993\n",
      "160    Indianapolis Colts   5.714850   8.592842\n",
      "147     Minnesota Vikings   5.670387   9.714228\n",
      "\n",
      "\u001b[1;4mThe Bottom 10 Floors by Position:\n",
      "\u001b[0m\n",
      "QB\n",
      "             Player        low       high\n",
      "                                         \n",
      "39   Mitch Trubisky  10.021337  19.945330\n",
      "27       Jared Goff  11.160404  19.393442\n",
      "31   Baker Mayfield  11.720851  18.140688\n",
      "30       Derek Carr  12.408843  17.606542\n",
      "29  Jacoby Brissett  12.878008  19.871992\n",
      "19  Jimmy Garoppolo  13.052756  21.316474\n",
      "10    Aaron Rodgers  13.281342  23.426350\n",
      "22    Philip Rivers  13.793099  19.329977\n",
      "17        Tom Brady  13.819166  20.903911\n",
      "15     Kirk Cousins  14.357616  20.996230\n",
      "\n",
      "RB\n",
      "                 Player       low       high\n",
      "                                            \n",
      "204       Chase Edmonds  1.435084  13.944916\n",
      "221       Rashaad Penny  1.998299  12.261701\n",
      "235  DeAndre Washington  2.696387   7.442074\n",
      "234         Gus Edwards  2.959735   7.209496\n",
      "216      Jaylen Samuels  3.359933   9.912794\n",
      "192          Frank Gore  3.733012   8.759296\n",
      "215        Nyheim Hines  4.145487   7.162206\n",
      "98      Latavius Murray  4.313313  14.578995\n",
      "106      Raheem Mostert  4.573140  13.380706\n",
      "109       Tevin Coleman  5.102923  15.860713\n",
      "\n",
      "WR\n",
      "              Player       low       high\n",
      "                                         \n",
      "153      Will Fuller  2.147221  19.808335\n",
      "152    Sammy Watkins  2.700841  15.299159\n",
      "131      Zach Pascal  3.943893  12.271491\n",
      "142  Diontae Johnson  4.413413  11.186587\n",
      "155     Chris Conley  4.433065  10.366935\n",
      "114   Robby Anderson  5.018732  12.242807\n",
      "126   Marquise Brown  5.051512  14.457579\n",
      "122  Jamison Crowder  5.217150  11.721311\n",
      "144   Alshon Jeffery  5.252477  14.887523\n",
      "146   Dede Westbrook  5.731775  11.001559\n",
      "\n",
      "TE\n",
      "             Player       low      high\n",
      "                                       \n",
      "258   Cameron Brate  2.053800  7.007738\n",
      "256  Vance McDonald  2.131267  7.735400\n",
      "237  T.J. Hockenson  2.249182  8.534151\n",
      "245    Jordan Akins  2.304404  7.264826\n",
      "250     Dawson Knox  2.518696  6.758227\n",
      "193    Ryan Griffin  2.536902  9.924637\n",
      "229    Mike Gesicki  2.877232  7.768922\n",
      "257    Tyler Eifert  3.002566  6.089741\n",
      "242    Blake Jarwin  3.054094  6.653599\n",
      "218    Jimmy Graham  3.055494  8.052198\n",
      "\n",
      "DST\n",
      "                   Player       low       high\n",
      "                                              \n",
      "357        Miami Dolphins  0.137356   4.170336\n",
      "263       Atlanta Falcons  0.886620   7.728764\n",
      "255     Las Vegas Raiders  1.645784   7.584985\n",
      "284    Cincinnati Bengals  1.670387   5.714228\n",
      "273     Arizona Cardinals  1.770998   6.229002\n",
      "189   Philadelphia Eagles  1.775966  10.993265\n",
      "205       New York Giants  2.345875   9.346433\n",
      "254         Detroit Lions  2.465070   6.765699\n",
      "208  Jacksonville Jaguars  2.470771   9.067691\n",
      "227        Houston Texans  2.491425   8.277806\n",
      "\n"
     ]
    }
   ],
   "source": [
    "print('\\033[1;4m'+'The Top 10 Most Consistent/Predictable Players by Position:')\n",
    "print('\\033[0m')\n",
    "\n",
    "for pos in ['QB','RB','WR','TE','DST']:\n",
    "    \n",
    "    if pos == 'QB':\n",
    "        \n",
    "        df_temp = summary[(summary['Position'] == pos)].sort_values(by=('Points','sum'), ascending=False).head(20)\n",
    "        \n",
    "    elif pos == 'TE':\n",
    "        \n",
    "        df_temp = summary[(summary['Position'] == pos)].sort_values(by=('Points','sum'), ascending=False).head(30)\n",
    "        \n",
    "    elif (pos == 'WR') | (pos == 'RB'):\n",
    "        \n",
    "        df_temp = summary[(summary['Position'] == pos)].sort_values(by=('Points','sum'), ascending=False).head(50)\n",
    "        \n",
    "    else:\n",
    "        \n",
    "        df_temp = summary[(summary['Position'] == pos)].sort_values(by=('Points','sum'), ascending=False)\n",
    "    \n",
    "    df_temp = df_temp.sort_values(by='range', ascending=True).head(10)\n",
    "\n",
    "    print(pos)\n",
    "    print(df_temp[['Player','low','high']])\n",
    "    print('')\n",
    "\n",
    "# -----------------------------------------------------------------------------------------------------------------\n",
    "\n",
    "print('\\033[1;4m'+'The Top 10 Most Unpredictable Players by Position:')\n",
    "print('\\033[0m')\n",
    "\n",
    "for pos in ['QB','RB','WR','TE','DST']:\n",
    "    \n",
    "    if pos == 'QB':\n",
    "        \n",
    "        df_temp = summary[(summary['Position'] == pos)].sort_values(by=('Points','sum'), ascending=False).head(20)\n",
    "        \n",
    "    elif pos == 'TE':\n",
    "        \n",
    "        df_temp = summary[(summary['Position'] == pos)].sort_values(by=('Points','sum'), ascending=False).head(30)\n",
    "        \n",
    "    elif (pos == 'WR') | (pos == 'RB'):\n",
    "        \n",
    "        df_temp = summary[(summary['Position'] == pos)].sort_values(by=('Points','sum'), ascending=False).head(50)\n",
    "        \n",
    "    else:\n",
    "        \n",
    "        df_temp = summary[(summary['Position'] == pos)].sort_values(by=('Points','sum'), ascending=False)\n",
    "    \n",
    "    df_temp = df_temp.sort_values(by='range', ascending=False).head(10)\n",
    "\n",
    "    print(pos)\n",
    "    print(df_temp[['Player','low','high']])\n",
    "    print('')\n",
    "    \n",
    "# -----------------------------------------------------------------------------------------------------------------\n",
    "\n",
    "print('\\033[1;4m'+'The Top 10 Floors by Position:')\n",
    "print('\\033[0m')\n",
    "\n",
    "for pos in ['QB','RB','WR','TE','DST']:\n",
    "    \n",
    "    if pos == 'QB':\n",
    "        \n",
    "        df_temp = summary[(summary['Position'] == pos)].sort_values(by=('Points','sum'), ascending=False).head(20)\n",
    "        \n",
    "    elif pos == 'TE':\n",
    "        \n",
    "        df_temp = summary[(summary['Position'] == pos)].sort_values(by=('Points','sum'), ascending=False).head(30)\n",
    "        \n",
    "    elif (pos == 'WR') | (pos == 'RB'):\n",
    "        \n",
    "        df_temp = summary[(summary['Position'] == pos)].sort_values(by=('Points','sum'), ascending=False).head(50)\n",
    "        \n",
    "    else:\n",
    "        \n",
    "        df_temp = summary[(summary['Position'] == pos)].sort_values(by=('Points','sum'), ascending=False)\n",
    "    \n",
    "    df_temp = df_temp.sort_values(by='low', ascending=False).head(10)\n",
    "\n",
    "    print(pos)\n",
    "    print(df_temp[['Player','low','high']])\n",
    "    print('')\n",
    "    \n",
    "# -----------------------------------------------------------------------------------------------------------------\n",
    "\n",
    "print('\\033[1;4m'+'The Bottom 10 Floors by Position:')\n",
    "print('\\033[0m')\n",
    "\n",
    "for pos in ['QB','RB','WR','TE','DST']:\n",
    "    \n",
    "    if pos == 'QB':\n",
    "        \n",
    "        df_temp = summary[(summary['Position'] == pos)].sort_values(by=('Points','sum'), ascending=False).head(20)\n",
    "        \n",
    "    elif pos == 'TE':\n",
    "        \n",
    "        df_temp = summary[(summary['Position'] == pos)].sort_values(by=('Points','sum'), ascending=False).head(30)\n",
    "        \n",
    "    elif (pos == 'WR') | (pos == 'RB'):\n",
    "        \n",
    "        df_temp = summary[(summary['Position'] == pos)].sort_values(by=('Points','sum'), ascending=False).head(50)\n",
    "        \n",
    "    else:\n",
    "        \n",
    "        df_temp = summary[(summary['Position'] == pos)].sort_values(by=('Points','sum'), ascending=False)\n",
    "    \n",
    "    df_temp = df_temp.sort_values(by='low', ascending=True).head(10)\n",
    "\n",
    "    print(pos)\n",
    "    print(df_temp[['Player','low','high']])\n",
    "    print('')"
   ]
  },
  {
   "cell_type": "code",
   "execution_count": 7,
   "metadata": {},
   "outputs": [],
   "source": [
    "# FF Data Pros 2019\n",
    "\n",
    "df2019 = pd.read_csv('2019_Weeks_1-17.csv',index_col=0)[['player_name','position','team','week']]\n",
    "\n",
    "fp_abbvs = df2019['team'].sort_values().unique()\n",
    "ffdp_abbvs = df['Team'].sort_values().unique()"
   ]
  },
  {
   "cell_type": "code",
   "execution_count": 8,
   "metadata": {},
   "outputs": [],
   "source": [
    "abbv_dict = {'ARI':'ARI', \n",
    "             'ATL':'ATL', \n",
    "             'BAL':'BAL', \n",
    "             'BUF':'BUF', \n",
    "             'CAR':'CAR', \n",
    "             'CHI':'CHI', \n",
    "             'CIN':'CIN', \n",
    "             'CLE':'CLE', \n",
    "             'DAL':'DAL',\n",
    "             'DEN':'DEN', \n",
    "             'DET':'DET',\n",
    "             'GNB':'GB', \n",
    "             'HOU':'HOU', \n",
    "             'IND':'IND', \n",
    "             'JAX':'JAC', \n",
    "             'KAN':'KC', \n",
    "             'LAC':'LAC', \n",
    "             'LAR':'LAR',\n",
    "             'OAK':'LV', \n",
    "             'MIA':'MIA', \n",
    "             'MIN':'MIN', \n",
    "             'NWE':'NE', \n",
    "             'NOR':'NO', \n",
    "             'NYG':'NYG', \n",
    "             'NYJ':'NYJ', \n",
    "             'PHI':'PHI', \n",
    "             'PIT':'PIT', \n",
    "             'SEA':'SEA',\n",
    "             'SFO':'SF', \n",
    "             'TAM':'TB', \n",
    "             'TEN':'TEN', \n",
    "             'WAS':'WAS'}"
   ]
  },
  {
   "cell_type": "code",
   "execution_count": 9,
   "metadata": {},
   "outputs": [],
   "source": [
    "for i,player in df.iterrows():    \n",
    "    \n",
    "    week = player['Week']\n",
    "    name = player['Player']\n",
    "    \n",
    "    try:\n",
    "        df.loc[i,'Team'] = abbv_dict[df2019[(df2019['player_name'] == name) & \n",
    "                                            (df2019['week'] == week) &\n",
    "                                            (df2019['position'] == player['Position'])]['team'].item()]\n",
    "        \n",
    "    except:\n",
    "        \n",
    "        try:\n",
    "            df.loc[i,'Team'] = abbv_dict[df2019[(df2019['player_name'] == name) &\n",
    "                                                (df2019['position'] == player)]['team'].max()]\n",
    "            \n",
    "        except:\n",
    "            df.loc[i,'Team'] = player['Team']"
   ]
  },
  {
   "cell_type": "code",
   "execution_count": 10,
   "metadata": {},
   "outputs": [
    {
     "data": {
      "text/html": [
       "<div>\n",
       "<style scoped>\n",
       "    .dataframe tbody tr th:only-of-type {\n",
       "        vertical-align: middle;\n",
       "    }\n",
       "\n",
       "    .dataframe tbody tr th {\n",
       "        vertical-align: top;\n",
       "    }\n",
       "\n",
       "    .dataframe thead th {\n",
       "        text-align: right;\n",
       "    }\n",
       "</style>\n",
       "<table border=\"1\" class=\"dataframe\">\n",
       "  <thead>\n",
       "    <tr style=\"text-align: right;\">\n",
       "      <th></th>\n",
       "      <th>Team</th>\n",
       "      <th>1</th>\n",
       "      <th>2</th>\n",
       "      <th>3</th>\n",
       "      <th>4</th>\n",
       "      <th>5</th>\n",
       "      <th>6</th>\n",
       "      <th>7</th>\n",
       "      <th>8</th>\n",
       "      <th>9</th>\n",
       "      <th>10</th>\n",
       "      <th>11</th>\n",
       "      <th>12</th>\n",
       "      <th>13</th>\n",
       "      <th>14</th>\n",
       "      <th>15</th>\n",
       "      <th>16</th>\n",
       "      <th>17</th>\n",
       "    </tr>\n",
       "  </thead>\n",
       "  <tbody>\n",
       "    <tr>\n",
       "      <th>0</th>\n",
       "      <td>ARI</td>\n",
       "      <td>vs DET</td>\n",
       "      <td>@ BAL</td>\n",
       "      <td>vs CAR</td>\n",
       "      <td>vs SEA</td>\n",
       "      <td>@ CIN</td>\n",
       "      <td>vs ATL</td>\n",
       "      <td>@ NYG</td>\n",
       "      <td>@ NO</td>\n",
       "      <td>vs SF</td>\n",
       "      <td>@ TB</td>\n",
       "      <td>@ SF</td>\n",
       "      <td>BYE</td>\n",
       "      <td>vs LAR</td>\n",
       "      <td>vs PIT</td>\n",
       "      <td>vs CLE</td>\n",
       "      <td>@ SEA</td>\n",
       "      <td>@ LAR</td>\n",
       "    </tr>\n",
       "    <tr>\n",
       "      <th>1</th>\n",
       "      <td>ATL</td>\n",
       "      <td>@ MIN</td>\n",
       "      <td>vs PHI</td>\n",
       "      <td>@ IND</td>\n",
       "      <td>vs TEN</td>\n",
       "      <td>@ HOU</td>\n",
       "      <td>@ ARI</td>\n",
       "      <td>vs LAR</td>\n",
       "      <td>vs SEA</td>\n",
       "      <td>BYE</td>\n",
       "      <td>@ NO</td>\n",
       "      <td>@ CAR</td>\n",
       "      <td>vs TB</td>\n",
       "      <td>vs NO</td>\n",
       "      <td>vs CAR</td>\n",
       "      <td>@ SF</td>\n",
       "      <td>vs JAC</td>\n",
       "      <td>@ TB</td>\n",
       "    </tr>\n",
       "    <tr>\n",
       "      <th>2</th>\n",
       "      <td>BAL</td>\n",
       "      <td>@ MIA</td>\n",
       "      <td>vs ARI</td>\n",
       "      <td>@ KC</td>\n",
       "      <td>vs CLE</td>\n",
       "      <td>@ PIT</td>\n",
       "      <td>vs CIN</td>\n",
       "      <td>@ SEA</td>\n",
       "      <td>BYE</td>\n",
       "      <td>vs NE</td>\n",
       "      <td>@ CIN</td>\n",
       "      <td>vs HOU</td>\n",
       "      <td>@ LAR</td>\n",
       "      <td>vs SF</td>\n",
       "      <td>@ BUF</td>\n",
       "      <td>vs NYJ</td>\n",
       "      <td>@ CLE</td>\n",
       "      <td>vs PIT</td>\n",
       "    </tr>\n",
       "    <tr>\n",
       "      <th>3</th>\n",
       "      <td>BUF</td>\n",
       "      <td>@ NYJ</td>\n",
       "      <td>@ NYG</td>\n",
       "      <td>vs CIN</td>\n",
       "      <td>vs NE</td>\n",
       "      <td>@ TEN</td>\n",
       "      <td>BYE</td>\n",
       "      <td>vs MIA</td>\n",
       "      <td>vs PHI</td>\n",
       "      <td>vs WAS</td>\n",
       "      <td>@ CLE</td>\n",
       "      <td>@ MIA</td>\n",
       "      <td>vs DEN</td>\n",
       "      <td>@ DAL</td>\n",
       "      <td>vs BAL</td>\n",
       "      <td>@ PIT</td>\n",
       "      <td>@ NE</td>\n",
       "      <td>vs NYJ</td>\n",
       "    </tr>\n",
       "    <tr>\n",
       "      <th>4</th>\n",
       "      <td>CAR</td>\n",
       "      <td>vs LAR</td>\n",
       "      <td>vs TB</td>\n",
       "      <td>@ ARI</td>\n",
       "      <td>@ HOU</td>\n",
       "      <td>vs JAC</td>\n",
       "      <td>@ TB</td>\n",
       "      <td>BYE</td>\n",
       "      <td>@ SF</td>\n",
       "      <td>vs TEN</td>\n",
       "      <td>@ GB</td>\n",
       "      <td>vs ATL</td>\n",
       "      <td>@ NO</td>\n",
       "      <td>vs WAS</td>\n",
       "      <td>@ ATL</td>\n",
       "      <td>vs SEA</td>\n",
       "      <td>@ IND</td>\n",
       "      <td>vs NO</td>\n",
       "    </tr>\n",
       "    <tr>\n",
       "      <th>5</th>\n",
       "      <td>CHI</td>\n",
       "      <td>vs GB</td>\n",
       "      <td>@ DEN</td>\n",
       "      <td>@ WAS</td>\n",
       "      <td>vs MIN</td>\n",
       "      <td>@ LV</td>\n",
       "      <td>BYE</td>\n",
       "      <td>vs NO</td>\n",
       "      <td>vs LAC</td>\n",
       "      <td>@ PHI</td>\n",
       "      <td>vs DET</td>\n",
       "      <td>@ LAR</td>\n",
       "      <td>vs NYG</td>\n",
       "      <td>@ DET</td>\n",
       "      <td>vs DAL</td>\n",
       "      <td>@ GB</td>\n",
       "      <td>vs KC</td>\n",
       "      <td>@ MIN</td>\n",
       "    </tr>\n",
       "    <tr>\n",
       "      <th>6</th>\n",
       "      <td>CIN</td>\n",
       "      <td>@ SEA</td>\n",
       "      <td>vs SF</td>\n",
       "      <td>@ BUF</td>\n",
       "      <td>@ PIT</td>\n",
       "      <td>vs ARI</td>\n",
       "      <td>@ BAL</td>\n",
       "      <td>vs JAC</td>\n",
       "      <td>@ LAR</td>\n",
       "      <td>BYE</td>\n",
       "      <td>vs BAL</td>\n",
       "      <td>@ LV</td>\n",
       "      <td>vs PIT</td>\n",
       "      <td>vs NYJ</td>\n",
       "      <td>@ CLE</td>\n",
       "      <td>vs NE</td>\n",
       "      <td>@ MIA</td>\n",
       "      <td>vs CLE</td>\n",
       "    </tr>\n",
       "    <tr>\n",
       "      <th>7</th>\n",
       "      <td>CLE</td>\n",
       "      <td>vs TEN</td>\n",
       "      <td>@ NYJ</td>\n",
       "      <td>vs LAR</td>\n",
       "      <td>@ BAL</td>\n",
       "      <td>@ SF</td>\n",
       "      <td>vs SEA</td>\n",
       "      <td>BYE</td>\n",
       "      <td>@ NE</td>\n",
       "      <td>@ DEN</td>\n",
       "      <td>vs BUF</td>\n",
       "      <td>vs PIT</td>\n",
       "      <td>vs MIA</td>\n",
       "      <td>@ PIT</td>\n",
       "      <td>vs CIN</td>\n",
       "      <td>@ ARI</td>\n",
       "      <td>vs BAL</td>\n",
       "      <td>@ CIN</td>\n",
       "    </tr>\n",
       "    <tr>\n",
       "      <th>8</th>\n",
       "      <td>DAL</td>\n",
       "      <td>vs NYG</td>\n",
       "      <td>@ WAS</td>\n",
       "      <td>vs MIA</td>\n",
       "      <td>@ NO</td>\n",
       "      <td>vs GB</td>\n",
       "      <td>@ NYJ</td>\n",
       "      <td>vs PHI</td>\n",
       "      <td>BYE</td>\n",
       "      <td>@ NYG</td>\n",
       "      <td>vs MIN</td>\n",
       "      <td>@ DET</td>\n",
       "      <td>@ NE</td>\n",
       "      <td>vs BUF</td>\n",
       "      <td>@ CHI</td>\n",
       "      <td>vs LAR</td>\n",
       "      <td>@ PHI</td>\n",
       "      <td>vs WAS</td>\n",
       "    </tr>\n",
       "    <tr>\n",
       "      <th>9</th>\n",
       "      <td>DEN</td>\n",
       "      <td>@ LV</td>\n",
       "      <td>vs CHI</td>\n",
       "      <td>@ GB</td>\n",
       "      <td>vs JAC</td>\n",
       "      <td>@ LAC</td>\n",
       "      <td>vs TEN</td>\n",
       "      <td>vs KC</td>\n",
       "      <td>@ IND</td>\n",
       "      <td>vs CLE</td>\n",
       "      <td>BYE</td>\n",
       "      <td>@ MIN</td>\n",
       "      <td>@ BUF</td>\n",
       "      <td>vs LAC</td>\n",
       "      <td>@ HOU</td>\n",
       "      <td>@ KC</td>\n",
       "      <td>vs DET</td>\n",
       "      <td>vs LV</td>\n",
       "    </tr>\n",
       "    <tr>\n",
       "      <th>10</th>\n",
       "      <td>DET</td>\n",
       "      <td>@ ARI</td>\n",
       "      <td>vs LAC</td>\n",
       "      <td>@ PHI</td>\n",
       "      <td>vs KC</td>\n",
       "      <td>BYE</td>\n",
       "      <td>@ GB</td>\n",
       "      <td>vs MIN</td>\n",
       "      <td>vs NYG</td>\n",
       "      <td>@ LV</td>\n",
       "      <td>@ CHI</td>\n",
       "      <td>vs DAL</td>\n",
       "      <td>@ WAS</td>\n",
       "      <td>vs CHI</td>\n",
       "      <td>@ MIN</td>\n",
       "      <td>vs TB</td>\n",
       "      <td>@ DEN</td>\n",
       "      <td>vs GB</td>\n",
       "    </tr>\n",
       "    <tr>\n",
       "      <th>11</th>\n",
       "      <td>GB</td>\n",
       "      <td>@ CHI</td>\n",
       "      <td>vs MIN</td>\n",
       "      <td>vs DEN</td>\n",
       "      <td>vs PHI</td>\n",
       "      <td>@ DAL</td>\n",
       "      <td>vs DET</td>\n",
       "      <td>vs LV</td>\n",
       "      <td>@ KC</td>\n",
       "      <td>@ LAC</td>\n",
       "      <td>vs CAR</td>\n",
       "      <td>BYE</td>\n",
       "      <td>@ SF</td>\n",
       "      <td>@ NYG</td>\n",
       "      <td>vs WAS</td>\n",
       "      <td>vs CHI</td>\n",
       "      <td>@ MIN</td>\n",
       "      <td>@ DET</td>\n",
       "    </tr>\n",
       "    <tr>\n",
       "      <th>12</th>\n",
       "      <td>HOU</td>\n",
       "      <td>@ NO</td>\n",
       "      <td>vs JAC</td>\n",
       "      <td>@ LAC</td>\n",
       "      <td>vs CAR</td>\n",
       "      <td>vs ATL</td>\n",
       "      <td>@ KC</td>\n",
       "      <td>@ IND</td>\n",
       "      <td>vs LV</td>\n",
       "      <td>@ JAC</td>\n",
       "      <td>BYE</td>\n",
       "      <td>@ BAL</td>\n",
       "      <td>vs IND</td>\n",
       "      <td>vs NE</td>\n",
       "      <td>vs DEN</td>\n",
       "      <td>@ TEN</td>\n",
       "      <td>@ TB</td>\n",
       "      <td>vs TEN</td>\n",
       "    </tr>\n",
       "    <tr>\n",
       "      <th>13</th>\n",
       "      <td>IND</td>\n",
       "      <td>@ LAC</td>\n",
       "      <td>@ TEN</td>\n",
       "      <td>vs ATL</td>\n",
       "      <td>vs LV</td>\n",
       "      <td>@ KC</td>\n",
       "      <td>BYE</td>\n",
       "      <td>vs HOU</td>\n",
       "      <td>vs DEN</td>\n",
       "      <td>@ PIT</td>\n",
       "      <td>vs MIA</td>\n",
       "      <td>vs JAC</td>\n",
       "      <td>@ HOU</td>\n",
       "      <td>vs TEN</td>\n",
       "      <td>@ TB</td>\n",
       "      <td>@ NO</td>\n",
       "      <td>vs CAR</td>\n",
       "      <td>@ JAC</td>\n",
       "    </tr>\n",
       "    <tr>\n",
       "      <th>14</th>\n",
       "      <td>JAC</td>\n",
       "      <td>vs KC</td>\n",
       "      <td>@ HOU</td>\n",
       "      <td>vs TEN</td>\n",
       "      <td>@ DEN</td>\n",
       "      <td>@ CAR</td>\n",
       "      <td>vs NO</td>\n",
       "      <td>@ CIN</td>\n",
       "      <td>vs NYJ</td>\n",
       "      <td>vs HOU</td>\n",
       "      <td>BYE</td>\n",
       "      <td>@ IND</td>\n",
       "      <td>@ TEN</td>\n",
       "      <td>vs TB</td>\n",
       "      <td>vs LAC</td>\n",
       "      <td>@ LV</td>\n",
       "      <td>@ ATL</td>\n",
       "      <td>vs IND</td>\n",
       "    </tr>\n",
       "    <tr>\n",
       "      <th>15</th>\n",
       "      <td>KC</td>\n",
       "      <td>@ JAC</td>\n",
       "      <td>@ LV</td>\n",
       "      <td>vs BAL</td>\n",
       "      <td>@ DET</td>\n",
       "      <td>vs IND</td>\n",
       "      <td>vs HOU</td>\n",
       "      <td>@ DEN</td>\n",
       "      <td>vs GB</td>\n",
       "      <td>vs MIN</td>\n",
       "      <td>@ TEN</td>\n",
       "      <td>@ LAC</td>\n",
       "      <td>BYE</td>\n",
       "      <td>vs LV</td>\n",
       "      <td>@ NE</td>\n",
       "      <td>vs DEN</td>\n",
       "      <td>@ CHI</td>\n",
       "      <td>vs LAC</td>\n",
       "    </tr>\n",
       "    <tr>\n",
       "      <th>16</th>\n",
       "      <td>MIA</td>\n",
       "      <td>vs BAL</td>\n",
       "      <td>vs NE</td>\n",
       "      <td>@ DAL</td>\n",
       "      <td>vs LAC</td>\n",
       "      <td>BYE</td>\n",
       "      <td>vs WAS</td>\n",
       "      <td>@ BUF</td>\n",
       "      <td>@ PIT</td>\n",
       "      <td>vs NYJ</td>\n",
       "      <td>@ IND</td>\n",
       "      <td>vs BUF</td>\n",
       "      <td>@ CLE</td>\n",
       "      <td>vs PHI</td>\n",
       "      <td>@ NYJ</td>\n",
       "      <td>@ NYG</td>\n",
       "      <td>vs CIN</td>\n",
       "      <td>@ NE</td>\n",
       "    </tr>\n",
       "    <tr>\n",
       "      <th>17</th>\n",
       "      <td>MIN</td>\n",
       "      <td>vs ATL</td>\n",
       "      <td>@ GB</td>\n",
       "      <td>vs LV</td>\n",
       "      <td>@ CHI</td>\n",
       "      <td>@ NYG</td>\n",
       "      <td>vs PHI</td>\n",
       "      <td>@ DET</td>\n",
       "      <td>vs WAS</td>\n",
       "      <td>@ KC</td>\n",
       "      <td>@ DAL</td>\n",
       "      <td>vs DEN</td>\n",
       "      <td>BYE</td>\n",
       "      <td>@ SEA</td>\n",
       "      <td>vs DET</td>\n",
       "      <td>@ LAC</td>\n",
       "      <td>vs GB</td>\n",
       "      <td>vs CHI</td>\n",
       "    </tr>\n",
       "    <tr>\n",
       "      <th>18</th>\n",
       "      <td>NE</td>\n",
       "      <td>vs PIT</td>\n",
       "      <td>@ MIA</td>\n",
       "      <td>vs NYJ</td>\n",
       "      <td>@ BUF</td>\n",
       "      <td>@ WAS</td>\n",
       "      <td>vs NYG</td>\n",
       "      <td>@ NYJ</td>\n",
       "      <td>vs CLE</td>\n",
       "      <td>@ BAL</td>\n",
       "      <td>BYE</td>\n",
       "      <td>@ PHI</td>\n",
       "      <td>vs DAL</td>\n",
       "      <td>@ HOU</td>\n",
       "      <td>vs KC</td>\n",
       "      <td>@ CIN</td>\n",
       "      <td>vs BUF</td>\n",
       "      <td>vs MIA</td>\n",
       "    </tr>\n",
       "    <tr>\n",
       "      <th>19</th>\n",
       "      <td>NO</td>\n",
       "      <td>vs HOU</td>\n",
       "      <td>@ LAR</td>\n",
       "      <td>@ SEA</td>\n",
       "      <td>vs DAL</td>\n",
       "      <td>vs TB</td>\n",
       "      <td>@ JAC</td>\n",
       "      <td>@ CHI</td>\n",
       "      <td>vs ARI</td>\n",
       "      <td>BYE</td>\n",
       "      <td>vs ATL</td>\n",
       "      <td>@ TB</td>\n",
       "      <td>vs CAR</td>\n",
       "      <td>@ ATL</td>\n",
       "      <td>vs SF</td>\n",
       "      <td>vs IND</td>\n",
       "      <td>@ TEN</td>\n",
       "      <td>@ CAR</td>\n",
       "    </tr>\n",
       "    <tr>\n",
       "      <th>20</th>\n",
       "      <td>NYG</td>\n",
       "      <td>@ DAL</td>\n",
       "      <td>vs BUF</td>\n",
       "      <td>@ TB</td>\n",
       "      <td>vs WAS</td>\n",
       "      <td>vs MIN</td>\n",
       "      <td>@ NE</td>\n",
       "      <td>vs ARI</td>\n",
       "      <td>@ DET</td>\n",
       "      <td>vs DAL</td>\n",
       "      <td>@ NYJ</td>\n",
       "      <td>BYE</td>\n",
       "      <td>@ CHI</td>\n",
       "      <td>vs GB</td>\n",
       "      <td>@ PHI</td>\n",
       "      <td>vs MIA</td>\n",
       "      <td>@ WAS</td>\n",
       "      <td>vs PHI</td>\n",
       "    </tr>\n",
       "    <tr>\n",
       "      <th>21</th>\n",
       "      <td>NYJ</td>\n",
       "      <td>vs BUF</td>\n",
       "      <td>vs CLE</td>\n",
       "      <td>@ NE</td>\n",
       "      <td>BYE</td>\n",
       "      <td>@ PHI</td>\n",
       "      <td>vs DAL</td>\n",
       "      <td>vs NE</td>\n",
       "      <td>@ JAC</td>\n",
       "      <td>@ MIA</td>\n",
       "      <td>vs NYG</td>\n",
       "      <td>@ WAS</td>\n",
       "      <td>vs LV</td>\n",
       "      <td>@ CIN</td>\n",
       "      <td>vs MIA</td>\n",
       "      <td>@ BAL</td>\n",
       "      <td>vs PIT</td>\n",
       "      <td>@ BUF</td>\n",
       "    </tr>\n",
       "    <tr>\n",
       "      <th>22</th>\n",
       "      <td>LV</td>\n",
       "      <td>vs DEN</td>\n",
       "      <td>vs KC</td>\n",
       "      <td>@ MIN</td>\n",
       "      <td>@ IND</td>\n",
       "      <td>vs CHI</td>\n",
       "      <td>BYE</td>\n",
       "      <td>@ GB</td>\n",
       "      <td>@ HOU</td>\n",
       "      <td>vs DET</td>\n",
       "      <td>vs LAC</td>\n",
       "      <td>vs CIN</td>\n",
       "      <td>@ NYJ</td>\n",
       "      <td>@ KC</td>\n",
       "      <td>vs TEN</td>\n",
       "      <td>vs JAC</td>\n",
       "      <td>@ LAC</td>\n",
       "      <td>@ DEN</td>\n",
       "    </tr>\n",
       "    <tr>\n",
       "      <th>23</th>\n",
       "      <td>PHI</td>\n",
       "      <td>vs WAS</td>\n",
       "      <td>@ ATL</td>\n",
       "      <td>vs DET</td>\n",
       "      <td>@ GB</td>\n",
       "      <td>vs NYJ</td>\n",
       "      <td>@ MIN</td>\n",
       "      <td>@ DAL</td>\n",
       "      <td>@ BUF</td>\n",
       "      <td>vs CHI</td>\n",
       "      <td>BYE</td>\n",
       "      <td>vs NE</td>\n",
       "      <td>vs SEA</td>\n",
       "      <td>@ MIA</td>\n",
       "      <td>vs NYG</td>\n",
       "      <td>@ WAS</td>\n",
       "      <td>vs DAL</td>\n",
       "      <td>@ NYG</td>\n",
       "    </tr>\n",
       "    <tr>\n",
       "      <th>24</th>\n",
       "      <td>PIT</td>\n",
       "      <td>@ NE</td>\n",
       "      <td>vs SEA</td>\n",
       "      <td>@ SF</td>\n",
       "      <td>vs CIN</td>\n",
       "      <td>vs BAL</td>\n",
       "      <td>@ LAC</td>\n",
       "      <td>BYE</td>\n",
       "      <td>vs MIA</td>\n",
       "      <td>vs IND</td>\n",
       "      <td>vs LAR</td>\n",
       "      <td>@ CLE</td>\n",
       "      <td>@ CIN</td>\n",
       "      <td>vs CLE</td>\n",
       "      <td>@ ARI</td>\n",
       "      <td>vs BUF</td>\n",
       "      <td>@ NYJ</td>\n",
       "      <td>@ BAL</td>\n",
       "    </tr>\n",
       "    <tr>\n",
       "      <th>25</th>\n",
       "      <td>LAC</td>\n",
       "      <td>vs IND</td>\n",
       "      <td>@ DET</td>\n",
       "      <td>vs HOU</td>\n",
       "      <td>@ MIA</td>\n",
       "      <td>vs DEN</td>\n",
       "      <td>vs PIT</td>\n",
       "      <td>@ TEN</td>\n",
       "      <td>@ CHI</td>\n",
       "      <td>vs GB</td>\n",
       "      <td>@ LV</td>\n",
       "      <td>vs KC</td>\n",
       "      <td>BYE</td>\n",
       "      <td>@ DEN</td>\n",
       "      <td>@ JAC</td>\n",
       "      <td>vs MIN</td>\n",
       "      <td>vs LV</td>\n",
       "      <td>@ KC</td>\n",
       "    </tr>\n",
       "    <tr>\n",
       "      <th>26</th>\n",
       "      <td>SEA</td>\n",
       "      <td>vs CIN</td>\n",
       "      <td>@ PIT</td>\n",
       "      <td>vs NO</td>\n",
       "      <td>@ ARI</td>\n",
       "      <td>vs LAR</td>\n",
       "      <td>@ CLE</td>\n",
       "      <td>vs BAL</td>\n",
       "      <td>@ ATL</td>\n",
       "      <td>vs TB</td>\n",
       "      <td>@ SF</td>\n",
       "      <td>BYE</td>\n",
       "      <td>@ PHI</td>\n",
       "      <td>vs MIN</td>\n",
       "      <td>@ LAR</td>\n",
       "      <td>@ CAR</td>\n",
       "      <td>vs ARI</td>\n",
       "      <td>vs SF</td>\n",
       "    </tr>\n",
       "    <tr>\n",
       "      <th>27</th>\n",
       "      <td>SF</td>\n",
       "      <td>@ TB</td>\n",
       "      <td>@ CIN</td>\n",
       "      <td>vs PIT</td>\n",
       "      <td>BYE</td>\n",
       "      <td>vs CLE</td>\n",
       "      <td>@ LAR</td>\n",
       "      <td>@ WAS</td>\n",
       "      <td>vs CAR</td>\n",
       "      <td>@ ARI</td>\n",
       "      <td>vs SEA</td>\n",
       "      <td>vs ARI</td>\n",
       "      <td>vs GB</td>\n",
       "      <td>@ BAL</td>\n",
       "      <td>@ NO</td>\n",
       "      <td>vs ATL</td>\n",
       "      <td>vs LAR</td>\n",
       "      <td>@ SEA</td>\n",
       "    </tr>\n",
       "    <tr>\n",
       "      <th>28</th>\n",
       "      <td>LAR</td>\n",
       "      <td>@ CAR</td>\n",
       "      <td>vs NO</td>\n",
       "      <td>@ CLE</td>\n",
       "      <td>vs TB</td>\n",
       "      <td>@ SEA</td>\n",
       "      <td>vs SF</td>\n",
       "      <td>@ ATL</td>\n",
       "      <td>vs CIN</td>\n",
       "      <td>BYE</td>\n",
       "      <td>@ PIT</td>\n",
       "      <td>vs CHI</td>\n",
       "      <td>vs BAL</td>\n",
       "      <td>@ ARI</td>\n",
       "      <td>vs SEA</td>\n",
       "      <td>@ DAL</td>\n",
       "      <td>@ SF</td>\n",
       "      <td>vs ARI</td>\n",
       "    </tr>\n",
       "    <tr>\n",
       "      <th>29</th>\n",
       "      <td>TB</td>\n",
       "      <td>vs SF</td>\n",
       "      <td>@ CAR</td>\n",
       "      <td>vs NYG</td>\n",
       "      <td>@ LAR</td>\n",
       "      <td>@ NO</td>\n",
       "      <td>vs CAR</td>\n",
       "      <td>BYE</td>\n",
       "      <td>@ TEN</td>\n",
       "      <td>@ SEA</td>\n",
       "      <td>vs ARI</td>\n",
       "      <td>vs NO</td>\n",
       "      <td>@ ATL</td>\n",
       "      <td>@ JAC</td>\n",
       "      <td>vs IND</td>\n",
       "      <td>@ DET</td>\n",
       "      <td>vs HOU</td>\n",
       "      <td>vs ATL</td>\n",
       "    </tr>\n",
       "    <tr>\n",
       "      <th>30</th>\n",
       "      <td>TEN</td>\n",
       "      <td>@ CLE</td>\n",
       "      <td>vs IND</td>\n",
       "      <td>@ JAC</td>\n",
       "      <td>@ ATL</td>\n",
       "      <td>vs BUF</td>\n",
       "      <td>@ DEN</td>\n",
       "      <td>vs LAC</td>\n",
       "      <td>vs TB</td>\n",
       "      <td>@ CAR</td>\n",
       "      <td>vs KC</td>\n",
       "      <td>BYE</td>\n",
       "      <td>vs JAC</td>\n",
       "      <td>@ IND</td>\n",
       "      <td>@ LV</td>\n",
       "      <td>vs HOU</td>\n",
       "      <td>vs NO</td>\n",
       "      <td>@ HOU</td>\n",
       "    </tr>\n",
       "    <tr>\n",
       "      <th>31</th>\n",
       "      <td>WAS</td>\n",
       "      <td>@ PHI</td>\n",
       "      <td>vs DAL</td>\n",
       "      <td>vs CHI</td>\n",
       "      <td>@ NYG</td>\n",
       "      <td>vs NE</td>\n",
       "      <td>@ MIA</td>\n",
       "      <td>vs SF</td>\n",
       "      <td>@ MIN</td>\n",
       "      <td>@ BUF</td>\n",
       "      <td>BYE</td>\n",
       "      <td>vs NYJ</td>\n",
       "      <td>vs DET</td>\n",
       "      <td>@ CAR</td>\n",
       "      <td>@ GB</td>\n",
       "      <td>vs PHI</td>\n",
       "      <td>vs NYG</td>\n",
       "      <td>@ DAL</td>\n",
       "    </tr>\n",
       "  </tbody>\n",
       "</table>\n",
       "</div>"
      ],
      "text/plain": [
       "   Team       1       2       3       4       5       6       7       8  \\\n",
       "0   ARI  vs DET   @ BAL  vs CAR  vs SEA   @ CIN  vs ATL   @ NYG    @ NO   \n",
       "1   ATL   @ MIN  vs PHI   @ IND  vs TEN   @ HOU   @ ARI  vs LAR  vs SEA   \n",
       "2   BAL   @ MIA  vs ARI    @ KC  vs CLE   @ PIT  vs CIN   @ SEA     BYE   \n",
       "3   BUF   @ NYJ   @ NYG  vs CIN   vs NE   @ TEN     BYE  vs MIA  vs PHI   \n",
       "4   CAR  vs LAR   vs TB   @ ARI   @ HOU  vs JAC    @ TB     BYE    @ SF   \n",
       "5   CHI   vs GB   @ DEN   @ WAS  vs MIN    @ LV     BYE   vs NO  vs LAC   \n",
       "6   CIN   @ SEA   vs SF   @ BUF   @ PIT  vs ARI   @ BAL  vs JAC   @ LAR   \n",
       "7   CLE  vs TEN   @ NYJ  vs LAR   @ BAL    @ SF  vs SEA     BYE    @ NE   \n",
       "8   DAL  vs NYG   @ WAS  vs MIA    @ NO   vs GB   @ NYJ  vs PHI     BYE   \n",
       "9   DEN    @ LV  vs CHI    @ GB  vs JAC   @ LAC  vs TEN   vs KC   @ IND   \n",
       "10  DET   @ ARI  vs LAC   @ PHI   vs KC     BYE    @ GB  vs MIN  vs NYG   \n",
       "11   GB   @ CHI  vs MIN  vs DEN  vs PHI   @ DAL  vs DET   vs LV    @ KC   \n",
       "12  HOU    @ NO  vs JAC   @ LAC  vs CAR  vs ATL    @ KC   @ IND   vs LV   \n",
       "13  IND   @ LAC   @ TEN  vs ATL   vs LV    @ KC     BYE  vs HOU  vs DEN   \n",
       "14  JAC   vs KC   @ HOU  vs TEN   @ DEN   @ CAR   vs NO   @ CIN  vs NYJ   \n",
       "15   KC   @ JAC    @ LV  vs BAL   @ DET  vs IND  vs HOU   @ DEN   vs GB   \n",
       "16  MIA  vs BAL   vs NE   @ DAL  vs LAC     BYE  vs WAS   @ BUF   @ PIT   \n",
       "17  MIN  vs ATL    @ GB   vs LV   @ CHI   @ NYG  vs PHI   @ DET  vs WAS   \n",
       "18   NE  vs PIT   @ MIA  vs NYJ   @ BUF   @ WAS  vs NYG   @ NYJ  vs CLE   \n",
       "19   NO  vs HOU   @ LAR   @ SEA  vs DAL   vs TB   @ JAC   @ CHI  vs ARI   \n",
       "20  NYG   @ DAL  vs BUF    @ TB  vs WAS  vs MIN    @ NE  vs ARI   @ DET   \n",
       "21  NYJ  vs BUF  vs CLE    @ NE     BYE   @ PHI  vs DAL   vs NE   @ JAC   \n",
       "22   LV  vs DEN   vs KC   @ MIN   @ IND  vs CHI     BYE    @ GB   @ HOU   \n",
       "23  PHI  vs WAS   @ ATL  vs DET    @ GB  vs NYJ   @ MIN   @ DAL   @ BUF   \n",
       "24  PIT    @ NE  vs SEA    @ SF  vs CIN  vs BAL   @ LAC     BYE  vs MIA   \n",
       "25  LAC  vs IND   @ DET  vs HOU   @ MIA  vs DEN  vs PIT   @ TEN   @ CHI   \n",
       "26  SEA  vs CIN   @ PIT   vs NO   @ ARI  vs LAR   @ CLE  vs BAL   @ ATL   \n",
       "27   SF    @ TB   @ CIN  vs PIT     BYE  vs CLE   @ LAR   @ WAS  vs CAR   \n",
       "28  LAR   @ CAR   vs NO   @ CLE   vs TB   @ SEA   vs SF   @ ATL  vs CIN   \n",
       "29   TB   vs SF   @ CAR  vs NYG   @ LAR    @ NO  vs CAR     BYE   @ TEN   \n",
       "30  TEN   @ CLE  vs IND   @ JAC   @ ATL  vs BUF   @ DEN  vs LAC   vs TB   \n",
       "31  WAS   @ PHI  vs DAL  vs CHI   @ NYG   vs NE   @ MIA   vs SF   @ MIN   \n",
       "\n",
       "         9      10      11      12      13      14      15      16      17  \n",
       "0    vs SF    @ TB    @ SF     BYE  vs LAR  vs PIT  vs CLE   @ SEA   @ LAR  \n",
       "1      BYE    @ NO   @ CAR   vs TB   vs NO  vs CAR    @ SF  vs JAC    @ TB  \n",
       "2    vs NE   @ CIN  vs HOU   @ LAR   vs SF   @ BUF  vs NYJ   @ CLE  vs PIT  \n",
       "3   vs WAS   @ CLE   @ MIA  vs DEN   @ DAL  vs BAL   @ PIT    @ NE  vs NYJ  \n",
       "4   vs TEN    @ GB  vs ATL    @ NO  vs WAS   @ ATL  vs SEA   @ IND   vs NO  \n",
       "5    @ PHI  vs DET   @ LAR  vs NYG   @ DET  vs DAL    @ GB   vs KC   @ MIN  \n",
       "6      BYE  vs BAL    @ LV  vs PIT  vs NYJ   @ CLE   vs NE   @ MIA  vs CLE  \n",
       "7    @ DEN  vs BUF  vs PIT  vs MIA   @ PIT  vs CIN   @ ARI  vs BAL   @ CIN  \n",
       "8    @ NYG  vs MIN   @ DET    @ NE  vs BUF   @ CHI  vs LAR   @ PHI  vs WAS  \n",
       "9   vs CLE     BYE   @ MIN   @ BUF  vs LAC   @ HOU    @ KC  vs DET   vs LV  \n",
       "10    @ LV   @ CHI  vs DAL   @ WAS  vs CHI   @ MIN   vs TB   @ DEN   vs GB  \n",
       "11   @ LAC  vs CAR     BYE    @ SF   @ NYG  vs WAS  vs CHI   @ MIN   @ DET  \n",
       "12   @ JAC     BYE   @ BAL  vs IND   vs NE  vs DEN   @ TEN    @ TB  vs TEN  \n",
       "13   @ PIT  vs MIA  vs JAC   @ HOU  vs TEN    @ TB    @ NO  vs CAR   @ JAC  \n",
       "14  vs HOU     BYE   @ IND   @ TEN   vs TB  vs LAC    @ LV   @ ATL  vs IND  \n",
       "15  vs MIN   @ TEN   @ LAC     BYE   vs LV    @ NE  vs DEN   @ CHI  vs LAC  \n",
       "16  vs NYJ   @ IND  vs BUF   @ CLE  vs PHI   @ NYJ   @ NYG  vs CIN    @ NE  \n",
       "17    @ KC   @ DAL  vs DEN     BYE   @ SEA  vs DET   @ LAC   vs GB  vs CHI  \n",
       "18   @ BAL     BYE   @ PHI  vs DAL   @ HOU   vs KC   @ CIN  vs BUF  vs MIA  \n",
       "19     BYE  vs ATL    @ TB  vs CAR   @ ATL   vs SF  vs IND   @ TEN   @ CAR  \n",
       "20  vs DAL   @ NYJ     BYE   @ CHI   vs GB   @ PHI  vs MIA   @ WAS  vs PHI  \n",
       "21   @ MIA  vs NYG   @ WAS   vs LV   @ CIN  vs MIA   @ BAL  vs PIT   @ BUF  \n",
       "22  vs DET  vs LAC  vs CIN   @ NYJ    @ KC  vs TEN  vs JAC   @ LAC   @ DEN  \n",
       "23  vs CHI     BYE   vs NE  vs SEA   @ MIA  vs NYG   @ WAS  vs DAL   @ NYG  \n",
       "24  vs IND  vs LAR   @ CLE   @ CIN  vs CLE   @ ARI  vs BUF   @ NYJ   @ BAL  \n",
       "25   vs GB    @ LV   vs KC     BYE   @ DEN   @ JAC  vs MIN   vs LV    @ KC  \n",
       "26   vs TB    @ SF     BYE   @ PHI  vs MIN   @ LAR   @ CAR  vs ARI   vs SF  \n",
       "27   @ ARI  vs SEA  vs ARI   vs GB   @ BAL    @ NO  vs ATL  vs LAR   @ SEA  \n",
       "28     BYE   @ PIT  vs CHI  vs BAL   @ ARI  vs SEA   @ DAL    @ SF  vs ARI  \n",
       "29   @ SEA  vs ARI   vs NO   @ ATL   @ JAC  vs IND   @ DET  vs HOU  vs ATL  \n",
       "30   @ CAR   vs KC     BYE  vs JAC   @ IND    @ LV  vs HOU   vs NO   @ HOU  \n",
       "31   @ BUF     BYE  vs NYJ  vs DET   @ CAR    @ GB  vs PHI  vs NYG   @ DAL  "
      ]
     },
     "execution_count": 10,
     "metadata": {},
     "output_type": "execute_result"
    }
   ],
   "source": [
    "schedule = pd.read_html('https://www.fantasypros.com/nfl/schedule.php?year=2019')[0]\n",
    "schedule.rename(columns = {\"Unnamed: 0\":\"Team\"},inplace=True)\n",
    "schedule"
   ]
  },
  {
   "cell_type": "code",
   "execution_count": 11,
   "metadata": {},
   "outputs": [],
   "source": [
    "for i,player in df.iterrows():\n",
    "    \n",
    "    week = player['Week']\n",
    "    team = player['Team']\n",
    "    \n",
    "    # Attempt to match Player's team and week in df to Team and Week in Schedule to get opponent.\n",
    "    try:\n",
    "        df.loc[i,'Opp'] = schedule[schedule['Team'] == team][str(player['Week'])].item()\n",
    "    except:\n",
    "        continue\n",
    "\n",
    "# Drop any NA values, filter out BYE weeks and only look at QB, RB, WR and TE\n",
    "df.dropna(axis=0,inplace=True)\n",
    "df = df[(df['Opp'] != 'BYE') & (df['Position'].isin(['QB','RB','WR','TE']))].reset_index(drop=True).copy()\n",
    "\n",
    "# Remove 'vs' or '@' from Opp\n",
    "df['Opp'] = df['Opp'].apply(lambda x: x.split(' ')[1])"
   ]
  },
  {
   "cell_type": "code",
   "execution_count": 12,
   "metadata": {},
   "outputs": [
    {
     "data": {
      "text/html": [
       "<div>\n",
       "<style scoped>\n",
       "    .dataframe tbody tr th:only-of-type {\n",
       "        vertical-align: middle;\n",
       "    }\n",
       "\n",
       "    .dataframe tbody tr th {\n",
       "        vertical-align: top;\n",
       "    }\n",
       "\n",
       "    .dataframe thead th {\n",
       "        text-align: right;\n",
       "    }\n",
       "</style>\n",
       "<table border=\"1\" class=\"dataframe\">\n",
       "  <thead>\n",
       "    <tr style=\"text-align: right;\">\n",
       "      <th></th>\n",
       "      <th>Week</th>\n",
       "      <th>Player</th>\n",
       "      <th>Position</th>\n",
       "      <th>Team</th>\n",
       "      <th>Points</th>\n",
       "      <th>Opp</th>\n",
       "    </tr>\n",
       "  </thead>\n",
       "  <tbody>\n",
       "    <tr>\n",
       "      <th>0</th>\n",
       "      <td>1</td>\n",
       "      <td>Sammy Watkins</td>\n",
       "      <td>WR</td>\n",
       "      <td>KC</td>\n",
       "      <td>42.3</td>\n",
       "      <td>JAC</td>\n",
       "    </tr>\n",
       "    <tr>\n",
       "      <th>1</th>\n",
       "      <td>1</td>\n",
       "      <td>Christian McCaffrey</td>\n",
       "      <td>RB</td>\n",
       "      <td>CAR</td>\n",
       "      <td>37.9</td>\n",
       "      <td>LAR</td>\n",
       "    </tr>\n",
       "    <tr>\n",
       "      <th>2</th>\n",
       "      <td>1</td>\n",
       "      <td>Austin Ekeler</td>\n",
       "      <td>RB</td>\n",
       "      <td>LAC</td>\n",
       "      <td>36.4</td>\n",
       "      <td>IND</td>\n",
       "    </tr>\n",
       "    <tr>\n",
       "      <th>3</th>\n",
       "      <td>1</td>\n",
       "      <td>Lamar Jackson</td>\n",
       "      <td>QB</td>\n",
       "      <td>BAL</td>\n",
       "      <td>33.6</td>\n",
       "      <td>MIA</td>\n",
       "    </tr>\n",
       "    <tr>\n",
       "      <th>4</th>\n",
       "      <td>1</td>\n",
       "      <td>Dak Prescott</td>\n",
       "      <td>QB</td>\n",
       "      <td>DAL</td>\n",
       "      <td>33.4</td>\n",
       "      <td>NYG</td>\n",
       "    </tr>\n",
       "  </tbody>\n",
       "</table>\n",
       "</div>"
      ],
      "text/plain": [
       "   Week               Player Position Team  Points  Opp\n",
       "0     1        Sammy Watkins       WR   KC    42.3  JAC\n",
       "1     1  Christian McCaffrey       RB  CAR    37.9  LAR\n",
       "2     1        Austin Ekeler       RB  LAC    36.4  IND\n",
       "3     1        Lamar Jackson       QB  BAL    33.6  MIA\n",
       "4     1         Dak Prescott       QB  DAL    33.4  NYG"
      ]
     },
     "execution_count": 12,
     "metadata": {},
     "output_type": "execute_result"
    }
   ],
   "source": [
    "df.head()"
   ]
  },
  {
   "cell_type": "code",
   "execution_count": 13,
   "metadata": {},
   "outputs": [
    {
     "data": {
      "text/html": [
       "<div>\n",
       "<style scoped>\n",
       "    .dataframe tbody tr th:only-of-type {\n",
       "        vertical-align: middle;\n",
       "    }\n",
       "\n",
       "    .dataframe tbody tr th {\n",
       "        vertical-align: top;\n",
       "    }\n",
       "\n",
       "    .dataframe thead th {\n",
       "        text-align: right;\n",
       "    }\n",
       "</style>\n",
       "<table border=\"1\" class=\"dataframe\">\n",
       "  <thead>\n",
       "    <tr style=\"text-align: right;\">\n",
       "      <th></th>\n",
       "      <th>Opp</th>\n",
       "      <th>Position</th>\n",
       "      <th>Week</th>\n",
       "      <th>Points</th>\n",
       "    </tr>\n",
       "  </thead>\n",
       "  <tbody>\n",
       "    <tr>\n",
       "      <th>0</th>\n",
       "      <td>ARI</td>\n",
       "      <td>QB</td>\n",
       "      <td>1</td>\n",
       "      <td>27.6</td>\n",
       "    </tr>\n",
       "    <tr>\n",
       "      <th>1</th>\n",
       "      <td>ARI</td>\n",
       "      <td>QB</td>\n",
       "      <td>2</td>\n",
       "      <td>30.9</td>\n",
       "    </tr>\n",
       "    <tr>\n",
       "      <th>2</th>\n",
       "      <td>ARI</td>\n",
       "      <td>QB</td>\n",
       "      <td>3</td>\n",
       "      <td>24.3</td>\n",
       "    </tr>\n",
       "    <tr>\n",
       "      <th>3</th>\n",
       "      <td>ARI</td>\n",
       "      <td>QB</td>\n",
       "      <td>4</td>\n",
       "      <td>14.3</td>\n",
       "    </tr>\n",
       "    <tr>\n",
       "      <th>4</th>\n",
       "      <td>ARI</td>\n",
       "      <td>QB</td>\n",
       "      <td>5</td>\n",
       "      <td>19.0</td>\n",
       "    </tr>\n",
       "  </tbody>\n",
       "</table>\n",
       "</div>"
      ],
      "text/plain": [
       "   Opp Position  Week  Points\n",
       "0  ARI       QB     1    27.6\n",
       "1  ARI       QB     2    30.9\n",
       "2  ARI       QB     3    24.3\n",
       "3  ARI       QB     4    14.3\n",
       "4  ARI       QB     5    19.0"
      ]
     },
     "execution_count": 13,
     "metadata": {},
     "output_type": "execute_result"
    }
   ],
   "source": [
    "pa = df.groupby(by=['Opp','Position','Week']).sum().reset_index()\n",
    "pa.head()"
   ]
  },
  {
   "cell_type": "code",
   "execution_count": 14,
   "metadata": {},
   "outputs": [],
   "source": [
    "def oppConf(conf,week):\n",
    "    \n",
    "    alpha = 1-conf\n",
    "    \n",
    "    pa_summary = pa[pa['Week']<week][['Opp','Position','Points']].groupby(by=['Opp',\n",
    "                                                                              'Position']).agg(['sum',\n",
    "                                                                                                'mean',\n",
    "                                                                                                'std',\n",
    "                                                                                                'count'])\n",
    "    for i,team in pa_summary.iterrows():\n",
    "        \n",
    "        n = team[('Points','count')]\n",
    "        std = team[('Points','std')]\n",
    "        t = abs(st.t.ppf(alpha/2,n - 1))\n",
    "        \n",
    "        pa_summary.loc[i,'low'] = team[('Points','mean')] - ( t * ( std / math.sqrt(n)) )\n",
    "        pa_summary.loc[i,'high'] = team[('Points','mean')] + ( t * ( std / math.sqrt(n)) )\n",
    "        \n",
    "    pa_summary['range'] = pa_summary['high'] - pa_summary['low']\n",
    "        \n",
    "    pa_summary.dropna(inplace=True)\n",
    "    pa_summary.sort_values(by=('Points','sum'),ascending=False,inplace=True)\n",
    "    pa_summary.reset_index(inplace=True)\n",
    "        \n",
    "    return pa_summary"
   ]
  },
  {
   "cell_type": "code",
   "execution_count": 15,
   "metadata": {},
   "outputs": [
    {
     "data": {
      "text/html": [
       "<div>\n",
       "<style scoped>\n",
       "    .dataframe tbody tr th:only-of-type {\n",
       "        vertical-align: middle;\n",
       "    }\n",
       "\n",
       "    .dataframe tbody tr th {\n",
       "        vertical-align: top;\n",
       "    }\n",
       "\n",
       "    .dataframe thead tr th {\n",
       "        text-align: left;\n",
       "    }\n",
       "</style>\n",
       "<table border=\"1\" class=\"dataframe\">\n",
       "  <thead>\n",
       "    <tr>\n",
       "      <th></th>\n",
       "      <th>Opp</th>\n",
       "      <th>Position</th>\n",
       "      <th colspan=\"4\" halign=\"left\">Points</th>\n",
       "      <th>low</th>\n",
       "      <th>high</th>\n",
       "      <th>range</th>\n",
       "    </tr>\n",
       "    <tr>\n",
       "      <th></th>\n",
       "      <th></th>\n",
       "      <th></th>\n",
       "      <th>sum</th>\n",
       "      <th>mean</th>\n",
       "      <th>std</th>\n",
       "      <th>count</th>\n",
       "      <th></th>\n",
       "      <th></th>\n",
       "      <th></th>\n",
       "    </tr>\n",
       "  </thead>\n",
       "  <tbody>\n",
       "    <tr>\n",
       "      <th>0</th>\n",
       "      <td>TB</td>\n",
       "      <td>WR</td>\n",
       "      <td>488.8</td>\n",
       "      <td>37.600000</td>\n",
       "      <td>15.917339</td>\n",
       "      <td>13</td>\n",
       "      <td>29.731779</td>\n",
       "      <td>45.468221</td>\n",
       "      <td>15.736442</td>\n",
       "    </tr>\n",
       "    <tr>\n",
       "      <th>1</th>\n",
       "      <td>PHI</td>\n",
       "      <td>WR</td>\n",
       "      <td>423.7</td>\n",
       "      <td>32.592308</td>\n",
       "      <td>12.908490</td>\n",
       "      <td>13</td>\n",
       "      <td>26.211414</td>\n",
       "      <td>38.973202</td>\n",
       "      <td>12.761788</td>\n",
       "    </tr>\n",
       "    <tr>\n",
       "      <th>2</th>\n",
       "      <td>NYG</td>\n",
       "      <td>WR</td>\n",
       "      <td>423.0</td>\n",
       "      <td>32.538462</td>\n",
       "      <td>16.569829</td>\n",
       "      <td>13</td>\n",
       "      <td>24.347703</td>\n",
       "      <td>40.729220</td>\n",
       "      <td>16.381517</td>\n",
       "    </tr>\n",
       "    <tr>\n",
       "      <th>3</th>\n",
       "      <td>NO</td>\n",
       "      <td>WR</td>\n",
       "      <td>422.1</td>\n",
       "      <td>32.469231</td>\n",
       "      <td>13.578683</td>\n",
       "      <td>13</td>\n",
       "      <td>25.757048</td>\n",
       "      <td>39.181413</td>\n",
       "      <td>13.424365</td>\n",
       "    </tr>\n",
       "    <tr>\n",
       "      <th>4</th>\n",
       "      <td>MIA</td>\n",
       "      <td>WR</td>\n",
       "      <td>418.8</td>\n",
       "      <td>32.215385</td>\n",
       "      <td>10.897159</td>\n",
       "      <td>13</td>\n",
       "      <td>26.828727</td>\n",
       "      <td>37.602042</td>\n",
       "      <td>10.773316</td>\n",
       "    </tr>\n",
       "  </tbody>\n",
       "</table>\n",
       "</div>"
      ],
      "text/plain": [
       "   Opp Position Points                                    low       high  \\\n",
       "                   sum       mean        std count                         \n",
       "0   TB       WR  488.8  37.600000  15.917339    13  29.731779  45.468221   \n",
       "1  PHI       WR  423.7  32.592308  12.908490    13  26.211414  38.973202   \n",
       "2  NYG       WR  423.0  32.538462  16.569829    13  24.347703  40.729220   \n",
       "3   NO       WR  422.1  32.469231  13.578683    13  25.757048  39.181413   \n",
       "4  MIA       WR  418.8  32.215385  10.897159    13  26.828727  37.602042   \n",
       "\n",
       "       range  \n",
       "              \n",
       "0  15.736442  \n",
       "1  12.761788  \n",
       "2  16.381517  \n",
       "3  13.424365  \n",
       "4  10.773316  "
      ]
     },
     "execution_count": 15,
     "metadata": {},
     "output_type": "execute_result"
    }
   ],
   "source": [
    "pa_summary = oppConf(.90,15)\n",
    "pa_summary.head()"
   ]
  },
  {
   "cell_type": "code",
   "execution_count": 16,
   "metadata": {},
   "outputs": [],
   "source": [
    "for i,player in summary.iterrows():\n",
    "    \n",
    "    opp = df[(df['Week']==15) & (df['Team']==player['Team'].item())]['Opp'].max()\n",
    "    \n",
    "    summary.loc[i,'Opp'] = opp\n",
    "\n",
    "# Merge the Player Summary with the Team PA Summary by the Opp field\n",
    "matchup_summary = summary.merge(pa_summary,on=[('Opp',''),('Position','')],suffixes=('','_Opp'))\n",
    "\n",
    "# Rename Columns\n",
    "matchup_summary.columns = ['Player','Pos','Tm','PF','PF_Mean','PF_Std','PF_Count','PF_Low','PF_High','PF_Range',\n",
    "                          'Opp','PA','PA_Mean','PA_Std','PA_Count','PA_Low','PA_High','PA_Range']\n",
    "# Drop Columns\n",
    "matchup_summary.drop(labels=['PF','PF_Std','PA','PA_Std','PA_Count'], axis=1, inplace=True)\n",
    "\n",
    "# Sort by Avg. Points Scored by Player\n",
    "matchup_summary.sort_values(by='PF_Mean',ascending=False, inplace=True)\n",
    "\n",
    "for i,player in matchup_summary.iterrows():\n",
    "    \n",
    "    # Apply a best-case and worst-case \"Matchup Score\" to compare Matchups\n",
    "    matchup_summary.loc[i, 'Matchup Score_Low'] = math.sqrt( (player['PF_Low'] ** 2) + (player['PA_Low'] ** 2) )\n",
    "    matchup_summary.loc[i, 'Matchup Score_High'] = math.sqrt( (player['PF_High'] ** 2) + (player['PA_High'] ** 2) )\n",
    "    \n",
    "    # Marker size will be used for plots\n",
    "    matchup_summary.loc[i, 'Marker Size'] = math.sqrt( player['PF_Range'] * player['PA_Range'] )"
   ]
  },
  {
   "cell_type": "code",
   "execution_count": 17,
   "metadata": {
    "scrolled": false
   },
   "outputs": [
    {
     "data": {
      "text/html": [
       "<div>\n",
       "<style scoped>\n",
       "    .dataframe tbody tr th:only-of-type {\n",
       "        vertical-align: middle;\n",
       "    }\n",
       "\n",
       "    .dataframe tbody tr th {\n",
       "        vertical-align: top;\n",
       "    }\n",
       "\n",
       "    .dataframe thead th {\n",
       "        text-align: right;\n",
       "    }\n",
       "</style>\n",
       "<table border=\"1\" class=\"dataframe\">\n",
       "  <thead>\n",
       "    <tr style=\"text-align: right;\">\n",
       "      <th></th>\n",
       "      <th>Player</th>\n",
       "      <th>Opp</th>\n",
       "      <th>Matchup Score_Low</th>\n",
       "      <th>Matchup Score_High</th>\n",
       "    </tr>\n",
       "  </thead>\n",
       "  <tbody>\n",
       "    <tr>\n",
       "      <th>0</th>\n",
       "      <td>Lamar Jackson</td>\n",
       "      <td>NYJ</td>\n",
       "      <td>27.937495</td>\n",
       "      <td>36.770653</td>\n",
       "    </tr>\n",
       "    <tr>\n",
       "      <th>1</th>\n",
       "      <td>Deshaun Watson</td>\n",
       "      <td>TEN</td>\n",
       "      <td>23.500628</td>\n",
       "      <td>34.727307</td>\n",
       "    </tr>\n",
       "    <tr>\n",
       "      <th>2</th>\n",
       "      <td>Dak Prescott</td>\n",
       "      <td>LAR</td>\n",
       "      <td>22.004859</td>\n",
       "      <td>33.830783</td>\n",
       "    </tr>\n",
       "    <tr>\n",
       "      <th>3</th>\n",
       "      <td>Russell Wilson</td>\n",
       "      <td>CAR</td>\n",
       "      <td>21.384661</td>\n",
       "      <td>32.840273</td>\n",
       "    </tr>\n",
       "    <tr>\n",
       "      <th>4</th>\n",
       "      <td>Matthew Stafford</td>\n",
       "      <td>TB</td>\n",
       "      <td>24.184925</td>\n",
       "      <td>37.130519</td>\n",
       "    </tr>\n",
       "    <tr>\n",
       "      <th>5</th>\n",
       "      <td>Patrick Mahomes</td>\n",
       "      <td>DEN</td>\n",
       "      <td>20.485820</td>\n",
       "      <td>31.147640</td>\n",
       "    </tr>\n",
       "    <tr>\n",
       "      <th>6</th>\n",
       "      <td>Jameis Winston</td>\n",
       "      <td>IND</td>\n",
       "      <td>22.101012</td>\n",
       "      <td>33.002143</td>\n",
       "    </tr>\n",
       "    <tr>\n",
       "      <th>7</th>\n",
       "      <td>Josh Allen</td>\n",
       "      <td>PIT</td>\n",
       "      <td>20.443273</td>\n",
       "      <td>28.994324</td>\n",
       "    </tr>\n",
       "    <tr>\n",
       "      <th>8</th>\n",
       "      <td>Drew Brees</td>\n",
       "      <td>IND</td>\n",
       "      <td>18.336505</td>\n",
       "      <td>35.081749</td>\n",
       "    </tr>\n",
       "    <tr>\n",
       "      <th>9</th>\n",
       "      <td>Kyler Murray</td>\n",
       "      <td>CLE</td>\n",
       "      <td>21.696576</td>\n",
       "      <td>31.548188</td>\n",
       "    </tr>\n",
       "  </tbody>\n",
       "</table>\n",
       "</div>"
      ],
      "text/plain": [
       "             Player  Opp  Matchup Score_Low  Matchup Score_High\n",
       "0     Lamar Jackson  NYJ          27.937495           36.770653\n",
       "1    Deshaun Watson  TEN          23.500628           34.727307\n",
       "2      Dak Prescott  LAR          22.004859           33.830783\n",
       "3    Russell Wilson  CAR          21.384661           32.840273\n",
       "4  Matthew Stafford   TB          24.184925           37.130519\n",
       "5   Patrick Mahomes  DEN          20.485820           31.147640\n",
       "6    Jameis Winston  IND          22.101012           33.002143\n",
       "7        Josh Allen  PIT          20.443273           28.994324\n",
       "8        Drew Brees  IND          18.336505           35.081749\n",
       "9      Kyler Murray  CLE          21.696576           31.548188"
      ]
     },
     "execution_count": 17,
     "metadata": {},
     "output_type": "execute_result"
    },
    {
     "name": "stdout",
     "output_type": "stream",
     "text": [
      "\n"
     ]
    },
    {
     "data": {
      "text/html": [
       "<div>\n",
       "<style scoped>\n",
       "    .dataframe tbody tr th:only-of-type {\n",
       "        vertical-align: middle;\n",
       "    }\n",
       "\n",
       "    .dataframe tbody tr th {\n",
       "        vertical-align: top;\n",
       "    }\n",
       "\n",
       "    .dataframe thead th {\n",
       "        text-align: right;\n",
       "    }\n",
       "</style>\n",
       "<table border=\"1\" class=\"dataframe\">\n",
       "  <thead>\n",
       "    <tr style=\"text-align: right;\">\n",
       "      <th></th>\n",
       "      <th>Player</th>\n",
       "      <th>Opp</th>\n",
       "      <th>Matchup Score_Low</th>\n",
       "      <th>Matchup Score_High</th>\n",
       "    </tr>\n",
       "  </thead>\n",
       "  <tbody>\n",
       "    <tr>\n",
       "      <th>0</th>\n",
       "      <td>Christian McCaffrey</td>\n",
       "      <td>SEA</td>\n",
       "      <td>26.721159</td>\n",
       "      <td>39.258279</td>\n",
       "    </tr>\n",
       "    <tr>\n",
       "      <th>1</th>\n",
       "      <td>Dalvin Cook</td>\n",
       "      <td>LAC</td>\n",
       "      <td>24.465147</td>\n",
       "      <td>35.697584</td>\n",
       "    </tr>\n",
       "    <tr>\n",
       "      <th>2</th>\n",
       "      <td>Derrick Henry</td>\n",
       "      <td>HOU</td>\n",
       "      <td>23.769574</td>\n",
       "      <td>36.869550</td>\n",
       "    </tr>\n",
       "    <tr>\n",
       "      <th>3</th>\n",
       "      <td>Aaron Jones</td>\n",
       "      <td>CHI</td>\n",
       "      <td>19.540229</td>\n",
       "      <td>35.742839</td>\n",
       "    </tr>\n",
       "    <tr>\n",
       "      <th>4</th>\n",
       "      <td>Austin Ekeler</td>\n",
       "      <td>MIN</td>\n",
       "      <td>17.870351</td>\n",
       "      <td>32.158803</td>\n",
       "    </tr>\n",
       "    <tr>\n",
       "      <th>5</th>\n",
       "      <td>Ezekiel Elliott</td>\n",
       "      <td>LAR</td>\n",
       "      <td>20.365064</td>\n",
       "      <td>31.400821</td>\n",
       "    </tr>\n",
       "    <tr>\n",
       "      <th>6</th>\n",
       "      <td>Nick Chubb</td>\n",
       "      <td>ARI</td>\n",
       "      <td>21.562287</td>\n",
       "      <td>33.148573</td>\n",
       "    </tr>\n",
       "    <tr>\n",
       "      <th>7</th>\n",
       "      <td>Leonard Fournette</td>\n",
       "      <td>LV</td>\n",
       "      <td>22.470993</td>\n",
       "      <td>33.065403</td>\n",
       "    </tr>\n",
       "    <tr>\n",
       "      <th>8</th>\n",
       "      <td>Mark Ingram II</td>\n",
       "      <td>NYJ</td>\n",
       "      <td>17.897472</td>\n",
       "      <td>30.642224</td>\n",
       "    </tr>\n",
       "    <tr>\n",
       "      <th>9</th>\n",
       "      <td>Josh Jacobs</td>\n",
       "      <td>JAC</td>\n",
       "      <td>20.742759</td>\n",
       "      <td>38.861665</td>\n",
       "    </tr>\n",
       "  </tbody>\n",
       "</table>\n",
       "</div>"
      ],
      "text/plain": [
       "                Player  Opp  Matchup Score_Low  Matchup Score_High\n",
       "0  Christian McCaffrey  SEA          26.721159           39.258279\n",
       "1          Dalvin Cook  LAC          24.465147           35.697584\n",
       "2        Derrick Henry  HOU          23.769574           36.869550\n",
       "3          Aaron Jones  CHI          19.540229           35.742839\n",
       "4        Austin Ekeler  MIN          17.870351           32.158803\n",
       "5      Ezekiel Elliott  LAR          20.365064           31.400821\n",
       "6           Nick Chubb  ARI          21.562287           33.148573\n",
       "7    Leonard Fournette   LV          22.470993           33.065403\n",
       "8       Mark Ingram II  NYJ          17.897472           30.642224\n",
       "9          Josh Jacobs  JAC          20.742759           38.861665"
      ]
     },
     "execution_count": 17,
     "metadata": {},
     "output_type": "execute_result"
    },
    {
     "name": "stdout",
     "output_type": "stream",
     "text": [
      "\n"
     ]
    },
    {
     "data": {
      "text/html": [
       "<div>\n",
       "<style scoped>\n",
       "    .dataframe tbody tr th:only-of-type {\n",
       "        vertical-align: middle;\n",
       "    }\n",
       "\n",
       "    .dataframe tbody tr th {\n",
       "        vertical-align: top;\n",
       "    }\n",
       "\n",
       "    .dataframe thead th {\n",
       "        text-align: right;\n",
       "    }\n",
       "</style>\n",
       "<table border=\"1\" class=\"dataframe\">\n",
       "  <thead>\n",
       "    <tr style=\"text-align: right;\">\n",
       "      <th></th>\n",
       "      <th>Player</th>\n",
       "      <th>Opp</th>\n",
       "      <th>Matchup Score_Low</th>\n",
       "      <th>Matchup Score_High</th>\n",
       "    </tr>\n",
       "  </thead>\n",
       "  <tbody>\n",
       "    <tr>\n",
       "      <th>0</th>\n",
       "      <td>Michael Thomas</td>\n",
       "      <td>IND</td>\n",
       "      <td>28.072456</td>\n",
       "      <td>43.594331</td>\n",
       "    </tr>\n",
       "    <tr>\n",
       "      <th>1</th>\n",
       "      <td>Chris Godwin</td>\n",
       "      <td>DET</td>\n",
       "      <td>29.184669</td>\n",
       "      <td>43.322789</td>\n",
       "    </tr>\n",
       "    <tr>\n",
       "      <th>2</th>\n",
       "      <td>Mike Evans</td>\n",
       "      <td>DET</td>\n",
       "      <td>28.153172</td>\n",
       "      <td>43.261951</td>\n",
       "    </tr>\n",
       "    <tr>\n",
       "      <th>3</th>\n",
       "      <td>DeAndre Hopkins</td>\n",
       "      <td>CLE</td>\n",
       "      <td>23.221284</td>\n",
       "      <td>37.109134</td>\n",
       "    </tr>\n",
       "    <tr>\n",
       "      <th>4</th>\n",
       "      <td>Julian Edelman</td>\n",
       "      <td>CIN</td>\n",
       "      <td>22.601600</td>\n",
       "      <td>35.164883</td>\n",
       "    </tr>\n",
       "    <tr>\n",
       "      <th>5</th>\n",
       "      <td>Amari Cooper</td>\n",
       "      <td>LAR</td>\n",
       "      <td>22.518538</td>\n",
       "      <td>38.234786</td>\n",
       "    </tr>\n",
       "    <tr>\n",
       "      <th>6</th>\n",
       "      <td>Kenny Golladay</td>\n",
       "      <td>TB</td>\n",
       "      <td>31.450732</td>\n",
       "      <td>48.995013</td>\n",
       "    </tr>\n",
       "    <tr>\n",
       "      <th>7</th>\n",
       "      <td>D.J. Chark</td>\n",
       "      <td>LV</td>\n",
       "      <td>25.108132</td>\n",
       "      <td>41.218078</td>\n",
       "    </tr>\n",
       "    <tr>\n",
       "      <th>8</th>\n",
       "      <td>Cooper Kupp</td>\n",
       "      <td>DAL</td>\n",
       "      <td>18.851103</td>\n",
       "      <td>34.027379</td>\n",
       "    </tr>\n",
       "    <tr>\n",
       "      <th>9</th>\n",
       "      <td>Tyreek Hill</td>\n",
       "      <td>DEN</td>\n",
       "      <td>21.091458</td>\n",
       "      <td>34.202137</td>\n",
       "    </tr>\n",
       "  </tbody>\n",
       "</table>\n",
       "</div>"
      ],
      "text/plain": [
       "            Player  Opp  Matchup Score_Low  Matchup Score_High\n",
       "0   Michael Thomas  IND          28.072456           43.594331\n",
       "1     Chris Godwin  DET          29.184669           43.322789\n",
       "2       Mike Evans  DET          28.153172           43.261951\n",
       "3  DeAndre Hopkins  CLE          23.221284           37.109134\n",
       "4   Julian Edelman  CIN          22.601600           35.164883\n",
       "5     Amari Cooper  LAR          22.518538           38.234786\n",
       "6   Kenny Golladay   TB          31.450732           48.995013\n",
       "7       D.J. Chark   LV          25.108132           41.218078\n",
       "8      Cooper Kupp  DAL          18.851103           34.027379\n",
       "9      Tyreek Hill  DEN          21.091458           34.202137"
      ]
     },
     "execution_count": 17,
     "metadata": {},
     "output_type": "execute_result"
    },
    {
     "name": "stdout",
     "output_type": "stream",
     "text": [
      "\n"
     ]
    },
    {
     "data": {
      "text/html": [
       "<div>\n",
       "<style scoped>\n",
       "    .dataframe tbody tr th:only-of-type {\n",
       "        vertical-align: middle;\n",
       "    }\n",
       "\n",
       "    .dataframe tbody tr th {\n",
       "        vertical-align: top;\n",
       "    }\n",
       "\n",
       "    .dataframe thead th {\n",
       "        text-align: right;\n",
       "    }\n",
       "</style>\n",
       "<table border=\"1\" class=\"dataframe\">\n",
       "  <thead>\n",
       "    <tr style=\"text-align: right;\">\n",
       "      <th></th>\n",
       "      <th>Player</th>\n",
       "      <th>Opp</th>\n",
       "      <th>Matchup Score_Low</th>\n",
       "      <th>Matchup Score_High</th>\n",
       "    </tr>\n",
       "  </thead>\n",
       "  <tbody>\n",
       "    <tr>\n",
       "      <th>0</th>\n",
       "      <td>Austin Hooper</td>\n",
       "      <td>ARI</td>\n",
       "      <td>15.154526</td>\n",
       "      <td>26.060380</td>\n",
       "    </tr>\n",
       "    <tr>\n",
       "      <th>1</th>\n",
       "      <td>Travis Kelce</td>\n",
       "      <td>DEN</td>\n",
       "      <td>11.849052</td>\n",
       "      <td>19.958534</td>\n",
       "    </tr>\n",
       "    <tr>\n",
       "      <th>2</th>\n",
       "      <td>George Kittle</td>\n",
       "      <td>ATL</td>\n",
       "      <td>11.020775</td>\n",
       "      <td>20.175427</td>\n",
       "    </tr>\n",
       "    <tr>\n",
       "      <th>3</th>\n",
       "      <td>Zach Ertz</td>\n",
       "      <td>WAS</td>\n",
       "      <td>10.126381</td>\n",
       "      <td>19.883316</td>\n",
       "    </tr>\n",
       "    <tr>\n",
       "      <th>4</th>\n",
       "      <td>Hunter Henry</td>\n",
       "      <td>MIN</td>\n",
       "      <td>9.437882</td>\n",
       "      <td>19.584347</td>\n",
       "    </tr>\n",
       "    <tr>\n",
       "      <th>5</th>\n",
       "      <td>Evan Engram</td>\n",
       "      <td>MIA</td>\n",
       "      <td>8.014715</td>\n",
       "      <td>20.641677</td>\n",
       "    </tr>\n",
       "    <tr>\n",
       "      <th>6</th>\n",
       "      <td>Darren Waller</td>\n",
       "      <td>JAC</td>\n",
       "      <td>9.818240</td>\n",
       "      <td>19.171947</td>\n",
       "    </tr>\n",
       "    <tr>\n",
       "      <th>7</th>\n",
       "      <td>Mark Andrews</td>\n",
       "      <td>NYJ</td>\n",
       "      <td>8.372251</td>\n",
       "      <td>16.894404</td>\n",
       "    </tr>\n",
       "    <tr>\n",
       "      <th>8</th>\n",
       "      <td>Jared Cook</td>\n",
       "      <td>IND</td>\n",
       "      <td>9.679370</td>\n",
       "      <td>19.061194</td>\n",
       "    </tr>\n",
       "    <tr>\n",
       "      <th>9</th>\n",
       "      <td>Greg Olsen</td>\n",
       "      <td>CAR</td>\n",
       "      <td>6.158185</td>\n",
       "      <td>15.166894</td>\n",
       "    </tr>\n",
       "  </tbody>\n",
       "</table>\n",
       "</div>"
      ],
      "text/plain": [
       "          Player  Opp  Matchup Score_Low  Matchup Score_High\n",
       "0  Austin Hooper  ARI          15.154526           26.060380\n",
       "1   Travis Kelce  DEN          11.849052           19.958534\n",
       "2  George Kittle  ATL          11.020775           20.175427\n",
       "3      Zach Ertz  WAS          10.126381           19.883316\n",
       "4   Hunter Henry  MIN           9.437882           19.584347\n",
       "5    Evan Engram  MIA           8.014715           20.641677\n",
       "6  Darren Waller  JAC           9.818240           19.171947\n",
       "7   Mark Andrews  NYJ           8.372251           16.894404\n",
       "8     Jared Cook  IND           9.679370           19.061194\n",
       "9     Greg Olsen  CAR           6.158185           15.166894"
      ]
     },
     "execution_count": 17,
     "metadata": {},
     "output_type": "execute_result"
    }
   ],
   "source": [
    "qb_matchups = matchup_summary[(matchup_summary['Pos'] == 'QB') &\n",
    "                              (matchup_summary['PF_Count'] >= 7)].sort_values(by='PF_Mean',\n",
    "                                                                              ascending=False).head(20).reset_index(drop=True)\n",
    "rb_matchups = matchup_summary[(matchup_summary['Pos'] == 'RB') &\n",
    "                              (matchup_summary['PF_Count'] >= 7)].sort_values(by='PF_Mean',\n",
    "                                                                              ascending=False).head(30).reset_index(drop=True)\n",
    "wr_matchups = matchup_summary[(matchup_summary['Pos'] == 'WR') &\n",
    "                              (matchup_summary['PF_Count'] >= 7)].sort_values(by='PF_Mean',\n",
    "                                                                              ascending=False).head(30).reset_index(drop=True)\n",
    "te_matchups = matchup_summary[(matchup_summary['Pos'] == 'TE') &\n",
    "                              (matchup_summary['PF_Count'] >= 7)].sort_values(by='PF_Mean',\n",
    "                                                                              ascending=False).head(30).reset_index(drop=True)\n",
    "\n",
    "qb_matchups[['Player','Opp','Matchup Score_Low','Matchup Score_High']].head(10)\n",
    "print()\n",
    "\n",
    "rb_matchups[['Player','Opp','Matchup Score_Low','Matchup Score_High']].head(10)\n",
    "print()\n",
    "\n",
    "wr_matchups[['Player','Opp','Matchup Score_Low','Matchup Score_High']].head(10)\n",
    "print()\n",
    "\n",
    "te_matchups[['Player','Opp','Matchup Score_Low','Matchup Score_High']].head(10)"
   ]
  },
  {
   "cell_type": "code",
   "execution_count": 18,
   "metadata": {
    "scrolled": false
   },
   "outputs": [
    {
     "data": {
      "text/plain": [
       "<Figure size 1440x1080 with 0 Axes>"
      ]
     },
     "execution_count": 18,
     "metadata": {},
     "output_type": "execute_result"
    },
    {
     "data": {
      "text/plain": [
       "Text(27.2923,17.4462,'Lamar Jackson')"
      ]
     },
     "execution_count": 18,
     "metadata": {},
     "output_type": "execute_result"
    },
    {
     "data": {
      "text/plain": [
       "Text(27.2923,17.0962,'vs NYJ')"
      ]
     },
     "execution_count": 18,
     "metadata": {},
     "output_type": "execute_result"
    },
    {
     "data": {
      "text/plain": [
       "Text(23.3462,17.4769,'Deshaun Watson')"
      ]
     },
     "execution_count": 18,
     "metadata": {},
     "output_type": "execute_result"
    },
    {
     "data": {
      "text/plain": [
       "Text(23.3462,17.1269,'vs TEN')"
      ]
     },
     "execution_count": 18,
     "metadata": {},
     "output_type": "execute_result"
    },
    {
     "data": {
      "text/plain": [
       "Text(22.3308,16.7846,'Dak Prescott')"
      ]
     },
     "execution_count": 18,
     "metadata": {},
     "output_type": "execute_result"
    },
    {
     "data": {
      "text/plain": [
       "Text(22.3308,16.4346,'vs LAR')"
      ]
     },
     "execution_count": 18,
     "metadata": {},
     "output_type": "execute_result"
    },
    {
     "data": {
      "text/plain": [
       "Text(21.7692,16.2462,'Russell Wilson')"
      ]
     },
     "execution_count": 18,
     "metadata": {},
     "output_type": "execute_result"
    },
    {
     "data": {
      "text/plain": [
       "Text(21.7692,15.8962,'vs CAR')"
      ]
     },
     "execution_count": 18,
     "metadata": {},
     "output_type": "execute_result"
    },
    {
     "data": {
      "text/plain": [
       "Text(21.4375,22.0154,'Matthew Stafford')"
      ]
     },
     "execution_count": 18,
     "metadata": {},
     "output_type": "execute_result"
    },
    {
     "data": {
      "text/plain": [
       "Text(21.4375,21.6654,'vs TB')"
      ]
     },
     "execution_count": 18,
     "metadata": {},
     "output_type": "execute_result"
    },
    {
     "data": {
      "text/plain": [
       "Text(20.9727,15.1462,'Patrick Mahomes')"
      ]
     },
     "execution_count": 18,
     "metadata": {},
     "output_type": "execute_result"
    },
    {
     "data": {
      "text/plain": [
       "Text(20.9727,14.7962,'vs DEN')"
      ]
     },
     "execution_count": 18,
     "metadata": {},
     "output_type": "execute_result"
    },
    {
     "data": {
      "text/plain": [
       "Text(20.7692,18.2,'Jameis Winston')"
      ]
     },
     "execution_count": 18,
     "metadata": {},
     "output_type": "execute_result"
    },
    {
     "data": {
      "text/plain": [
       "Text(20.7692,17.85,'vs IND')"
      ]
     },
     "execution_count": 18,
     "metadata": {},
     "output_type": "execute_result"
    },
    {
     "data": {
      "text/plain": [
       "Text(19.9462,14.6692,'Josh Allen')"
      ]
     },
     "execution_count": 18,
     "metadata": {},
     "output_type": "execute_result"
    },
    {
     "data": {
      "text/plain": [
       "Text(19.9462,14.3192,'vs PIT')"
      ]
     },
     "execution_count": 18,
     "metadata": {},
     "output_type": "execute_result"
    },
    {
     "data": {
      "text/plain": [
       "Text(19.45,18.2,'Drew Brees')"
      ]
     },
     "execution_count": 18,
     "metadata": {},
     "output_type": "execute_result"
    },
    {
     "data": {
      "text/plain": [
       "Text(19.45,17.85,'vs IND')"
      ]
     },
     "execution_count": 18,
     "metadata": {},
     "output_type": "execute_result"
    },
    {
     "data": {
      "text/plain": [
       "Text(19.4,18.3308,'Kyler Murray')"
      ]
     },
     "execution_count": 18,
     "metadata": {},
     "output_type": "execute_result"
    },
    {
     "data": {
      "text/plain": [
       "Text(19.4,17.9808,'vs CLE')"
      ]
     },
     "execution_count": 18,
     "metadata": {},
     "output_type": "execute_result"
    },
    {
     "data": {
      "text/plain": [
       "Text(19.15,15.1231,'Matt Ryan')"
      ]
     },
     "execution_count": 18,
     "metadata": {},
     "output_type": "execute_result"
    },
    {
     "data": {
      "text/plain": [
       "Text(19.15,14.7731,'vs SF')"
      ]
     },
     "execution_count": 18,
     "metadata": {},
     "output_type": "execute_result"
    },
    {
     "data": {
      "text/plain": [
       "Text(18.3538,14.7,'Aaron Rodgers')"
      ]
     },
     "execution_count": 18,
     "metadata": {},
     "output_type": "execute_result"
    },
    {
     "data": {
      "text/plain": [
       "Text(18.3538,14.35,'vs CHI')"
      ]
     },
     "execution_count": 18,
     "metadata": {},
     "output_type": "execute_result"
    },
    {
     "data": {
      "text/plain": [
       "Text(18.1556,21.5769,'Ryan Tannehill')"
      ]
     },
     "execution_count": 18,
     "metadata": {},
     "output_type": "execute_result"
    },
    {
     "data": {
      "text/plain": [
       "Text(18.1556,21.2269,'vs HOU')"
      ]
     },
     "execution_count": 18,
     "metadata": {},
     "output_type": "execute_result"
    },
    {
     "data": {
      "text/plain": [
       "Text(17.6769,14.3846,'Kirk Cousins')"
      ]
     },
     "execution_count": 18,
     "metadata": {},
     "output_type": "execute_result"
    },
    {
     "data": {
      "text/plain": [
       "Text(17.6769,14.0346,'vs LAC')"
      ]
     },
     "execution_count": 18,
     "metadata": {},
     "output_type": "execute_result"
    },
    {
     "data": {
      "text/plain": [
       "Text(17.3615,20.5846,'Tom Brady')"
      ]
     },
     "execution_count": 18,
     "metadata": {},
     "output_type": "execute_result"
    },
    {
     "data": {
      "text/plain": [
       "Text(17.3615,20.2346,'vs DET')"
      ]
     },
     "execution_count": 18,
     "metadata": {},
     "output_type": "execute_result"
    },
    {
     "data": {
      "text/plain": [
       "Text(17.3308,18.4385,'Carson Wentz')"
      ]
     },
     "execution_count": 18,
     "metadata": {},
     "output_type": "execute_result"
    },
    {
     "data": {
      "text/plain": [
       "Text(17.3308,18.0885,'vs WAS')"
      ]
     },
     "execution_count": 18,
     "metadata": {},
     "output_type": "execute_result"
    },
    {
     "data": {
      "text/plain": [
       "Text(17.1846,22.3385,'Jimmy Garoppolo')"
      ]
     },
     "execution_count": 18,
     "metadata": {},
     "output_type": "execute_result"
    },
    {
     "data": {
      "text/plain": [
       "Text(17.1846,21.9885,'vs ATL')"
      ]
     },
     "execution_count": 18,
     "metadata": {},
     "output_type": "execute_result"
    },
    {
     "data": {
      "text/plain": [
       "Text(16.5615,20.0308,'Philip Rivers')"
      ]
     },
     "execution_count": 18,
     "metadata": {},
     "output_type": "execute_result"
    },
    {
     "data": {
      "text/plain": [
       "Text(16.5615,19.6808,'vs NO')"
      ]
     },
     "execution_count": 18,
     "metadata": {},
     "output_type": "execute_result"
    },
    {
     "data": {
      "text/plain": [
       "Text(16.49,13.2385,'Sam Darnold')"
      ]
     },
     "execution_count": 18,
     "metadata": {},
     "output_type": "execute_result"
    },
    {
     "data": {
      "text/plain": [
       "Text(16.49,12.8885,'vs BAL')"
      ]
     },
     "execution_count": 18,
     "metadata": {},
     "output_type": "execute_result"
    },
    {
     "data": {
      "text/plain": [
       "Text(16.375,20.0308,'Jacoby Brissett')"
      ]
     },
     "execution_count": 18,
     "metadata": {},
     "output_type": "execute_result"
    },
    {
     "data": {
      "text/plain": [
       "Text(16.375,19.6808,'vs NO')"
      ]
     },
     "execution_count": 18,
     "metadata": {},
     "output_type": "execute_result"
    },
    {
     "data": {
      "text/plain": [
       "[<matplotlib.lines.Line2D at 0x2ca12f61320>]"
      ]
     },
     "execution_count": 18,
     "metadata": {},
     "output_type": "execute_result"
    },
    {
     "data": {
      "text/plain": [
       "[<matplotlib.lines.Line2D at 0x2ca136eda20>]"
      ]
     },
     "execution_count": 18,
     "metadata": {},
     "output_type": "execute_result"
    },
    {
     "data": {
      "text/plain": [
       "[<matplotlib.lines.Line2D at 0x2ca136edb38>]"
      ]
     },
     "execution_count": 18,
     "metadata": {},
     "output_type": "execute_result"
    },
    {
     "data": {
      "text/plain": [
       "[<matplotlib.lines.Line2D at 0x2ca136edfd0>]"
      ]
     },
     "execution_count": 18,
     "metadata": {},
     "output_type": "execute_result"
    },
    {
     "data": {
      "image/png": "[encoded data removed]",
      "text/plain": [
       "<Figure size 1440x1080 with 1 Axes>"
      ]
     },
     "metadata": {},
     "output_type": "display_data"
    }
   ],
   "source": [
    "# Matchups for Top 10 QBs\n",
    "\n",
    "plt.figure(figsize=(20,15))\n",
    "#sns.set(style=\"darkgrid\")\n",
    "\n",
    "p1 = sns.scatterplot(data=qb_matchups, x=\"PF_Mean\", y=\"PA_Mean\", marker=\"o\", size=\"Marker Size\", legend=False)\n",
    "\n",
    "for x in range(0,qb_matchups.shape[0]):\n",
    "    \n",
    "    # Add Player Names\n",
    "    p1.text(qb_matchups.PF_Mean[x], \n",
    "        qb_matchups.PA_Mean[x]+.1, \n",
    "        qb_matchups.Player[x], \n",
    "        horizontalalignment='center', \n",
    "        size='medium')\n",
    "    \n",
    "    # Add Opponents\n",
    "    p1.text(qb_matchups.PF_Mean[x], \n",
    "        qb_matchups.PA_Mean[x]-.25, \n",
    "        \"vs \"+qb_matchups.Opp[x], \n",
    "        horizontalalignment='center', \n",
    "        size='medium')\n",
    "\n",
    "# Add Tiers\n",
    "plt.plot([20,15],[10,15])\n",
    "plt.plot([25,15],[10,20])\n",
    "plt.plot([30,15],[10,25])\n",
    "plt.plot([30,20],[15,25])"
   ]
  },
  {
   "cell_type": "code",
   "execution_count": 19,
   "metadata": {},
   "outputs": [
    {
     "data": {
      "text/plain": [
       "<Figure size 1440x1080 with 0 Axes>"
      ]
     },
     "execution_count": 19,
     "metadata": {},
     "output_type": "execute_result"
    },
    {
     "data": {
      "text/plain": [
       "Text(18.7692,30.7654,'Michael Thomas')"
      ]
     },
     "execution_count": 19,
     "metadata": {},
     "output_type": "execute_result"
    },
    {
     "data": {
      "text/plain": [
       "Text(18.7692,30.1154,'vs IND')"
      ]
     },
     "execution_count": 19,
     "metadata": {},
     "output_type": "execute_result"
    },
    {
     "data": {
      "text/plain": [
       "Text(16.8077,32.3115,'Chris Godwin')"
      ]
     },
     "execution_count": 19,
     "metadata": {},
     "output_type": "execute_result"
    },
    {
     "data": {
      "text/plain": [
       "Text(16.8077,31.6615,'vs DET')"
      ]
     },
     "execution_count": 19,
     "metadata": {},
     "output_type": "execute_result"
    },
    {
     "data": {
      "text/plain": [
       "Text(15.3231,32.3115,'Mike Evans')"
      ]
     },
     "execution_count": 19,
     "metadata": {},
     "output_type": "execute_result"
    },
    {
     "data": {
      "text/plain": [
       "Text(15.3231,31.6615,'vs DET')"
      ]
     },
     "execution_count": 19,
     "metadata": {},
     "output_type": "execute_result"
    },
    {
     "data": {
      "text/plain": [
       "Text(15.2154,26.2962,'DeAndre Hopkins')"
      ]
     },
     "execution_count": 19,
     "metadata": {},
     "output_type": "execute_result"
    },
    {
     "data": {
      "text/plain": [
       "Text(15.2154,25.6462,'vs CLE')"
      ]
     },
     "execution_count": 19,
     "metadata": {},
     "output_type": "execute_result"
    },
    {
     "data": {
      "text/plain": [
       "Text(14.5077,25.2192,'Julian Edelman')"
      ]
     },
     "execution_count": 19,
     "metadata": {},
     "output_type": "execute_result"
    },
    {
     "data": {
      "text/plain": [
       "Text(14.5077,24.5692,'vs CIN')"
      ]
     },
     "execution_count": 19,
     "metadata": {},
     "output_type": "execute_result"
    },
    {
     "data": {
      "text/plain": [
       "Text(14.4923,26.9115,'Amari Cooper')"
      ]
     },
     "execution_count": 19,
     "metadata": {},
     "output_type": "execute_result"
    },
    {
     "data": {
      "text/plain": [
       "Text(14.4923,26.2615,'vs LAR')"
      ]
     },
     "execution_count": 19,
     "metadata": {},
     "output_type": "execute_result"
    },
    {
     "data": {
      "text/plain": [
       "Text(14.2538,37.85,'Kenny Golladay')"
      ]
     },
     "execution_count": 19,
     "metadata": {},
     "output_type": "execute_result"
    },
    {
     "data": {
      "text/plain": [
       "Text(14.2538,37.2,'vs TB')"
      ]
     },
     "execution_count": 19,
     "metadata": {},
     "output_type": "execute_result"
    },
    {
     "data": {
      "text/plain": [
       "Text(13.9308,30.3269,'D.J. Chark')"
      ]
     },
     "execution_count": 19,
     "metadata": {},
     "output_type": "execute_result"
    },
    {
     "data": {
      "text/plain": [
       "Text(13.9308,29.6769,'vs LV')"
      ]
     },
     "execution_count": 19,
     "metadata": {},
     "output_type": "execute_result"
    },
    {
     "data": {
      "text/plain": [
       "Text(13.8385,22.7577,'Cooper Kupp')"
      ]
     },
     "execution_count": 19,
     "metadata": {},
     "output_type": "execute_result"
    },
    {
     "data": {
      "text/plain": [
       "Text(13.8385,22.1077,'vs DAL')"
      ]
     },
     "execution_count": 19,
     "metadata": {},
     "output_type": "execute_result"
    },
    {
     "data": {
      "text/plain": [
       "Text(13.3556,24.25,'Tyreek Hill')"
      ]
     },
     "execution_count": 19,
     "metadata": {},
     "output_type": "execute_result"
    },
    {
     "data": {
      "text/plain": [
       "Text(13.3556,23.6,'vs DEN')"
      ]
     },
     "execution_count": 19,
     "metadata": {},
     "output_type": "execute_result"
    },
    {
     "data": {
      "text/plain": [
       "Text(13.3167,22.9346,'Julio Jones')"
      ]
     },
     "execution_count": 19,
     "metadata": {},
     "output_type": "execute_result"
    },
    {
     "data": {
      "text/plain": [
       "Text(13.3167,22.2846,'vs SF')"
      ]
     },
     "execution_count": 19,
     "metadata": {},
     "output_type": "execute_result"
    },
    {
     "data": {
      "text/plain": [
       "Text(13.0846,28.5808,'D.J. Moore')"
      ]
     },
     "execution_count": 19,
     "metadata": {},
     "output_type": "execute_result"
    },
    {
     "data": {
      "text/plain": [
       "Text(13.0846,27.9308,'vs SEA')"
      ]
     },
     "execution_count": 19,
     "metadata": {},
     "output_type": "execute_result"
    },
    {
     "data": {
      "text/plain": [
       "Text(13.0615,25.0346,'Allen Robinson')"
      ]
     },
     "execution_count": 19,
     "metadata": {},
     "output_type": "execute_result"
    },
    {
     "data": {
      "text/plain": [
       "Text(13.0615,24.3846,'vs GB')"
      ]
     },
     "execution_count": 19,
     "metadata": {},
     "output_type": "execute_result"
    },
    {
     "data": {
      "text/plain": [
       "Text(12.9444,23.0346,'Davante Adams')"
      ]
     },
     "execution_count": 19,
     "metadata": {},
     "output_type": "execute_result"
    },
    {
     "data": {
      "text/plain": [
       "Text(12.9444,22.3846,'vs CHI')"
      ]
     },
     "execution_count": 19,
     "metadata": {},
     "output_type": "execute_result"
    },
    {
     "data": {
      "text/plain": [
       "Text(12.8692,31.6346,'Keenan Allen')"
      ]
     },
     "execution_count": 19,
     "metadata": {},
     "output_type": "execute_result"
    },
    {
     "data": {
      "text/plain": [
       "Text(12.8692,30.9846,'vs MIN')"
      ]
     },
     "execution_count": 19,
     "metadata": {},
     "output_type": "execute_result"
    },
    {
     "data": {
      "text/plain": [
       "Text(12.7308,22.9346,'Calvin Ridley')"
      ]
     },
     "execution_count": 19,
     "metadata": {},
     "output_type": "execute_result"
    },
    {
     "data": {
      "text/plain": [
       "Text(12.7308,22.2846,'vs SF')"
      ]
     },
     "execution_count": 19,
     "metadata": {},
     "output_type": "execute_result"
    },
    {
     "data": {
      "text/plain": [
       "Text(12.6923,32.2115,'Jarvis Landry')"
      ]
     },
     "execution_count": 19,
     "metadata": {},
     "output_type": "execute_result"
    },
    {
     "data": {
      "text/plain": [
       "Text(12.6923,31.5615,'vs ARI')"
      ]
     },
     "execution_count": 19,
     "metadata": {},
     "output_type": "execute_result"
    },
    {
     "data": {
      "text/plain": [
       "Text(12.5667,22.7577,'Robert Woods')"
      ]
     },
     "execution_count": 19,
     "metadata": {},
     "output_type": "execute_result"
    },
    {
     "data": {
      "text/plain": [
       "Text(12.5667,22.1077,'vs DAL')"
      ]
     },
     "execution_count": 19,
     "metadata": {},
     "output_type": "execute_result"
    },
    {
     "data": {
      "text/plain": [
       "Text(12.5308,37.85,'Marvin Jones')"
      ]
     },
     "execution_count": 19,
     "metadata": {},
     "output_type": "execute_result"
    },
    {
     "data": {
      "text/plain": [
       "Text(12.5308,37.2,'vs TB')"
      ]
     },
     "execution_count": 19,
     "metadata": {},
     "output_type": "execute_result"
    },
    {
     "data": {
      "text/plain": [
       "Text(12.5154,22.6346,'Courtland Sutton')"
      ]
     },
     "execution_count": 19,
     "metadata": {},
     "output_type": "execute_result"
    },
    {
     "data": {
      "text/plain": [
       "Text(12.5154,21.9846,'vs KC')"
      ]
     },
     "execution_count": 19,
     "metadata": {},
     "output_type": "execute_result"
    },
    {
     "data": {
      "text/plain": [
       "Text(12.3636,26.9115,'Michael Gallup')"
      ]
     },
     "execution_count": 19,
     "metadata": {},
     "output_type": "execute_result"
    },
    {
     "data": {
      "text/plain": [
       "Text(12.3636,26.2615,'vs LAR')"
      ]
     },
     "execution_count": 19,
     "metadata": {},
     "output_type": "execute_result"
    },
    {
     "data": {
      "text/plain": [
       "Text(12.1857,32.7192,'T.Y. Hilton')"
      ]
     },
     "execution_count": 19,
     "metadata": {},
     "output_type": "execute_result"
    },
    {
     "data": {
      "text/plain": [
       "Text(12.1857,32.0692,'vs NO')"
      ]
     },
     "execution_count": 19,
     "metadata": {},
     "output_type": "execute_result"
    },
    {
     "data": {
      "text/plain": [
       "Text(12.1769,26.1654,'John Brown')"
      ]
     },
     "execution_count": 19,
     "metadata": {},
     "output_type": "execute_result"
    },
    {
     "data": {
      "text/plain": [
       "Text(12.1769,25.5154,'vs PIT')"
      ]
     },
     "execution_count": 19,
     "metadata": {},
     "output_type": "execute_result"
    },
    {
     "data": {
      "text/plain": [
       "Text(12.1077,26.1654,'Stefon Diggs')"
      ]
     },
     "execution_count": 19,
     "metadata": {},
     "output_type": "execute_result"
    },
    {
     "data": {
      "text/plain": [
       "Text(12.1077,25.5154,'vs PIT')"
      ]
     },
     "execution_count": 19,
     "metadata": {},
     "output_type": "execute_result"
    },
    {
     "data": {
      "text/plain": [
       "Text(12.0308,29.9038,'Tyler Lockett')"
      ]
     },
     "execution_count": 19,
     "metadata": {},
     "output_type": "execute_result"
    },
    {
     "data": {
      "text/plain": [
       "Text(12.0308,29.2538,'vs CAR')"
      ]
     },
     "execution_count": 19,
     "metadata": {},
     "output_type": "execute_result"
    },
    {
     "data": {
      "text/plain": [
       "Text(11.8375,21.8346,'Adam Thielen')"
      ]
     },
     "execution_count": 19,
     "metadata": {},
     "output_type": "execute_result"
    },
    {
     "data": {
      "text/plain": [
       "Text(11.8375,21.1846,'vs LAC')"
      ]
     },
     "execution_count": 19,
     "metadata": {},
     "output_type": "execute_result"
    },
    {
     "data": {
      "text/plain": [
       "Text(11.7182,32.4654,'Darius Slayton')"
      ]
     },
     "execution_count": 19,
     "metadata": {},
     "output_type": "execute_result"
    },
    {
     "data": {
      "text/plain": [
       "Text(11.7182,31.8154,'vs MIA')"
      ]
     },
     "execution_count": 19,
     "metadata": {},
     "output_type": "execute_result"
    },
    {
     "data": {
      "text/plain": [
       "Text(11.6692,32.7885,'DeVante Parker')"
      ]
     },
     "execution_count": 19,
     "metadata": {},
     "output_type": "execute_result"
    },
    {
     "data": {
      "text/plain": [
       "Text(11.6692,32.1385,'vs NYG')"
      ]
     },
     "execution_count": 19,
     "metadata": {},
     "output_type": "execute_result"
    },
    {
     "data": {
      "text/plain": [
       "Text(11.51,26.2962,'Christian Kirk')"
      ]
     },
     "execution_count": 19,
     "metadata": {},
     "output_type": "execute_result"
    },
    {
     "data": {
      "text/plain": [
       "Text(11.51,25.6462,'vs CLE')"
      ]
     },
     "execution_count": 19,
     "metadata": {},
     "output_type": "execute_result"
    },
    {
     "data": {
      "text/plain": [
       "Text(11.025,32.4654,'Golden Tate')"
      ]
     },
     "execution_count": 19,
     "metadata": {},
     "output_type": "execute_result"
    },
    {
     "data": {
      "text/plain": [
       "Text(11.025,31.8154,'vs MIA')"
      ]
     },
     "execution_count": 19,
     "metadata": {},
     "output_type": "execute_result"
    },
    {
     "data": {
      "text/plain": [
       "[<matplotlib.lines.Line2D at 0x2ca13d44da0>]"
      ]
     },
     "execution_count": 19,
     "metadata": {},
     "output_type": "execute_result"
    },
    {
     "data": {
      "text/plain": [
       "[<matplotlib.lines.Line2D at 0x2ca137aa780>]"
      ]
     },
     "execution_count": 19,
     "metadata": {},
     "output_type": "execute_result"
    },
    {
     "data": {
      "text/plain": [
       "[<matplotlib.lines.Line2D at 0x2ca137aa898>]"
      ]
     },
     "execution_count": 19,
     "metadata": {},
     "output_type": "execute_result"
    },
    {
     "data": {
      "image/png": "[encoded data removed]",
      "text/plain": [
       "<Figure size 1440x1080 with 1 Axes>"
      ]
     },
     "metadata": {},
     "output_type": "display_data"
    }
   ],
   "source": [
    "# Matchups for Top 20 WRs\n",
    "\n",
    "plt.figure(figsize=(20,15))\n",
    "sns.set(style=\"darkgrid\")\n",
    "\n",
    "p1 = sns.scatterplot(data=wr_matchups, x=\"PF_Mean\", y=\"PA_Mean\", marker=\"o\", size=\"Marker Size\", legend=False)\n",
    "\n",
    "for x in range(0,wr_matchups.shape[0]):\n",
    "    \n",
    "    p1.text(wr_matchups.PF_Mean[x], \n",
    "        wr_matchups.PA_Mean[x]+.25, \n",
    "        wr_matchups.Player[x], \n",
    "        horizontalalignment='center', \n",
    "        size='medium')\n",
    "    \n",
    "    p1.text(wr_matchups.PF_Mean[x], \n",
    "        wr_matchups.PA_Mean[x]-.4, \n",
    "        \"vs \"+wr_matchups.Opp[x], \n",
    "        horizontalalignment='center', \n",
    "        size='medium')\n",
    "\n",
    "plt.plot([20,10],[20,30])\n",
    "plt.plot([20,10],[25,35])\n",
    "plt.plot([20,10],[30,40])"
   ]
  },
  {
   "cell_type": "code",
   "execution_count": null,
   "metadata": {},
   "outputs": [],
   "source": []
  }
 ],
 "metadata": {
  "kernelspec": {
   "display_name": "Python 3",
   "language": "python",
   "name": "python3"
  },
  "language_info": {
   "codemirror_mode": {
    "name": "ipython",
    "version": 3
   },
   "file_extension": ".py",
   "mimetype": "text/x-python",
   "name": "python",
   "nbconvert_exporter": "python",
   "pygments_lexer": "ipython3",
   "version": "3.6.4"
  }
 },
 "nbformat": 4,
 "nbformat_minor": 2
}
